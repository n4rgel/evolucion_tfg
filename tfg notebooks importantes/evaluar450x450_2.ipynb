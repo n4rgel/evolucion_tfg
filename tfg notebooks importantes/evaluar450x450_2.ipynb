{
 "cells": [
  {
   "cell_type": "code",
   "execution_count": 1,
   "metadata": {},
   "outputs": [
    {
     "name": "stdout",
     "output_type": "stream",
     "text": [
      "Num GPUS avadible: 1\n"
     ]
    }
   ],
   "source": [
    "import tensorflow as tf\n",
    "from tensorflow.keras.preprocessing.image import ImageDataGenerator\n",
    "\n",
    "import os\n",
    "import numpy as np\n",
    "import matplotlib.pyplot as plt\n",
    "import glob\n",
    "import shutil\n",
    "import logging\n",
    "\n",
    "import random\n",
    "from random import shuffle\n",
    "\n",
    "import imgaug as ia\n",
    "import imgaug.augmenters as iaa\n",
    "\n",
    "logger = tf.get_logger()\n",
    "logger.setLevel(logging.ERROR)\n",
    "\n",
    "\n",
    "print(\"Num GPUS avadible:\",len(tf.config.experimental.list_physical_devices('GPU')))"
   ]
  },
  {
   "cell_type": "code",
   "execution_count": 2,
   "metadata": {},
   "outputs": [],
   "source": [
    "base_dir=os.path.join( 'data_518')\n",
    "\n",
    "test1_dir = os.path.join(base_dir, 'test1_leve_fuerte' )\n",
    "val_dir  = os.path.join(base_dir,'val1_leve_fuerte')\n",
    "\n",
    "img_height=450\n",
    "img_width=450\n",
    "batch_size=32"
   ]
  },
  {
   "cell_type": "code",
   "execution_count": 3,
   "metadata": {},
   "outputs": [],
   "source": [
    "\n",
    "val_0 = os.path.join(val_dir, 'leve') \n",
    "val_1 = os.path.join(val_dir, 'fuerte')\n",
    "\n",
    "test_0 = os.path.join(test1_dir, 'leve') \n",
    "test_1 = os.path.join(test1_dir, 'fuerte')\n",
    "\n",
    "\n",
    "#numeros\n",
    "num_0_vl = len(os.listdir(val_0))\n",
    "num_1_vl = len(os.listdir(val_1))\n",
    "\n",
    "num_0_t = len(os.listdir(test_0))\n",
    "num_1_t = len(os.listdir(test_1))\n",
    "\n",
    "\n",
    "total_val = num_0_vl + num_1_vl\n",
    "total_test = num_0_t + num_1_t"
   ]
  },
  {
   "cell_type": "code",
   "execution_count": 4,
   "metadata": {},
   "outputs": [],
   "source": [
    "def rescale_0_to_1(image):\n",
    "    \"\"\"\n",
    "    Rescale image to [0, 1].\n",
    "    :param image:\n",
    "        Required. Image tensor.\n",
    "    :return:\n",
    "        Scaled image.\n",
    "    \"\"\"\n",
    "    return tf.image.convert_image_dtype(image, tf.float64)\n",
    "\n",
    "def rescale_min_1_to_1(image):\n",
    "    \"\"\"\n",
    "    Rescale image to [-1, 1].\n",
    "    :param image:\n",
    "        Required. Image tensor.\n",
    "    :return:\n",
    "        Scaled image.\n",
    "    \"\"\"\n",
    "    # Image must be casted to float32 first.\n",
    "    image = tf.cast(image, tf.float64)\n",
    "    # Rescale image from [0, 255] to [0, 2].\n",
    "    image = tf.multiply(image, 1. / 127.5)\n",
    "    # Rescale to [-1, 1].\n",
    "    return tf.subtract(image, 1.0)"
   ]
  },
  {
   "cell_type": "code",
   "execution_count": 5,
   "metadata": {},
   "outputs": [
    {
     "name": "stdout",
     "output_type": "stream",
     "text": [
      "Found 7646 images belonging to 2 classes.\n"
     ]
    }
   ],
   "source": [
    "image_gen_val = ImageDataGenerator(\n",
    "    preprocessing_function=rescale_min_1_to_1\n",
    ")\n",
    "\n",
    "val_data_gen = image_gen_val.flow_from_directory(batch_size=batch_size,\n",
    "                                                   directory=val_dir,\n",
    "                                                   target_size=(img_height,img_width),\n",
    "                                                   class_mode='binary'\n",
    "                                                  )"
   ]
  },
  {
   "cell_type": "code",
   "execution_count": 6,
   "metadata": {},
   "outputs": [
    {
     "name": "stdout",
     "output_type": "stream",
     "text": [
      "Found 12399 images belonging to 2 classes.\n"
     ]
    }
   ],
   "source": [
    "image_gen_test = ImageDataGenerator(\n",
    "    preprocessing_function=rescale_min_1_to_1\n",
    ")\n",
    "\n",
    "test_data_gen = image_gen_test.flow_from_directory(batch_size=batch_size,\n",
    "                                                   directory=test1_dir,\n",
    "                                                   target_size=(img_height,img_width),\n",
    "                                                   class_mode='binary'\n",
    "                                                  )"
   ]
  },
  {
   "cell_type": "code",
   "execution_count": 7,
   "metadata": {},
   "outputs": [],
   "source": [
    "import math  \n",
    "   \n",
    "####val####\n",
    "\n",
    "number_of_examples1 = len(val_data_gen.filenames)\n",
    "number_of_generator_calls1 = math.ceil(number_of_examples1 / (1.0 * batch_size)) \n",
    "# 1.0 above is to skip integer division\n",
    "\n",
    "val_labels = []\n",
    "\n",
    "for i in range(0,int(number_of_generator_calls1)):\n",
    "    val_labels.extend(np.array(val_data_gen[i][1]))\n",
    "    \n",
    "    \n",
    "    \n",
    "    \n",
    "####test####\n",
    "    \n",
    "number_of_examples2 = len(test_data_gen.filenames)\n",
    "number_of_generator_calls2 = math.ceil(number_of_examples2 / (1.0 * batch_size)) \n",
    "# 1.0 above is to skip integer division\n",
    "\n",
    "test_labels = []\n",
    "\n",
    "for i in range(0,int(number_of_generator_calls2)):\n",
    "    test_labels.extend(np.array(test_data_gen[i][1]))    "
   ]
  },
  {
   "cell_type": "code",
   "execution_count": 8,
   "metadata": {},
   "outputs": [],
   "source": [
    "model = tf.keras.models.load_model('modelos//prueban450x450_2.h5')"
   ]
  },
  {
   "cell_type": "code",
   "execution_count": 9,
   "metadata": {},
   "outputs": [
    {
     "data": {
      "text/plain": [
       "'model = tf.keras.models.Sequential([\\n    tf.keras.applications.InceptionV3(include_top=False,  weights=\"imagenet\", input_shape=(img_height,img_width,3), pooling=\\'avg\\'),\\n    tf.keras.layers.Dense(1,activation=\\'sigmoid\\')\\n])\\nmodel.load_weights(\\'weights//peso450x450.best.hdf5\\') '"
      ]
     },
     "execution_count": 9,
     "metadata": {},
     "output_type": "execute_result"
    }
   ],
   "source": [
    "'''model = tf.keras.models.Sequential([\n",
    "    tf.keras.applications.InceptionV3(include_top=False,  weights=\"imagenet\", input_shape=(img_height,img_width,3), pooling='avg'),\n",
    "    tf.keras.layers.Dense(1,activation='sigmoid')\n",
    "])\n",
    "model.load_weights('weights//peso450x450.best.hdf5') '''   \n",
    "    \n",
    "\n"
   ]
  },
  {
   "cell_type": "code",
   "execution_count": 10,
   "metadata": {},
   "outputs": [],
   "source": [
    "\n",
    "\n",
    "y_pred1 =  model.predict(val_data_gen, steps= int(np.ceil(total_val / float(batch_size))))\n",
    "\n",
    "y_pred2 =  model.predict(test_data_gen, steps= int(np.ceil(total_test / float(batch_size))))\n",
    "\n"
   ]
  },
  {
   "cell_type": "code",
   "execution_count": 11,
   "metadata": {},
   "outputs": [],
   "source": [
    "from sklearn.metrics import roc_curve,roc_auc_score\n",
    "\n",
    "fpr1 , tpr1 , thresholds1 = roc_curve ( val_labels , y_pred1)\n",
    "\n",
    "fpr2 , tpr2 , thresholds2 = roc_curve ( test_labels , y_pred2)\n",
    "\n"
   ]
  },
  {
   "cell_type": "code",
   "execution_count": 12,
   "metadata": {},
   "outputs": [],
   "source": [
    "def plot_roc_curve(fpr,tpr): \n",
    "  plt.plot(fpr,tpr) \n",
    "  plt.axis([0,1,0,1]) \n",
    "  plt.xlabel('False Positive Rate') \n",
    "  plt.ylabel('True Positive Rate') \n",
    "  plt.show()    \n",
    "  \n"
   ]
  },
  {
   "cell_type": "code",
   "execution_count": 13,
   "metadata": {},
   "outputs": [],
   "source": [
    "def tpr_to_umbrales(tpr,fpr,thresholds,lista):\n",
    "    umbrales=[]\n",
    "    fprumb=[]\n",
    "    \n",
    "    for i in lista:\n",
    "        umbrales.append(thresholds[(np.where(tpr>=i))[0][0]])\n",
    "        fprumb.append(fpr[(np.where(tpr>=i))[0][0]])\n",
    "    \n",
    "    return (umbrales, fprumb)"
   ]
  },
  {
   "cell_type": "code",
   "execution_count": 14,
   "metadata": {},
   "outputs": [],
   "source": [
    "def umbral_mejor(tpr,fpr,thresholds):\n",
    "    distancias=(1-tpr)+fpr\n",
    "    \n",
    "    umbral=thresholds[(np.where(distancias==min(distancias)))[0][0]]\n",
    "    tpr1=tpr[(np.where(distancias==min(distancias)))[0][0]]\n",
    "    fpr1=fpr[(np.where(distancias==min(distancias)))[0][0]]\n",
    "    \n",
    "    return (umbral,tpr1,fpr1)"
   ]
  },
  {
   "cell_type": "markdown",
   "metadata": {},
   "source": [
    "Evaluación Validación\n"
   ]
  },
  {
   "cell_type": "code",
   "execution_count": 15,
   "metadata": {},
   "outputs": [
    {
     "data": {
      "text/plain": [
       "0.907390065540578"
      ]
     },
     "execution_count": 15,
     "metadata": {},
     "output_type": "execute_result"
    }
   ],
   "source": [
    "roc_auc_score(val_labels, y_pred1)"
   ]
  },
  {
   "cell_type": "code",
   "execution_count": 16,
   "metadata": {},
   "outputs": [
    {
     "data": {
      "image/png": "[encoded data removed]",
      "text/plain": [
       "<Figure size 432x288 with 1 Axes>"
      ]
     },
     "metadata": {
      "needs_background": "light"
     },
     "output_type": "display_data"
    }
   ],
   "source": [
    "plot_roc_curve (fpr1,tpr1)"
   ]
  },
  {
   "cell_type": "code",
   "execution_count": 17,
   "metadata": {},
   "outputs": [
    {
     "name": "stdout",
     "output_type": "stream",
     "text": [
      "tpr:0.98->fpr: 0.3814713896457766 con umbral: 0.00023166389\n",
      "tpr:0.95->fpr: 0.27520435967302453 con umbral: 0.3036237\n",
      "tpr:0.9->fpr: 0.20935513169845596 con umbral: 0.9839294\n",
      "tpr:0.8->fpr: 0.14532243415077203 con umbral: 0.9998447\n"
     ]
    }
   ],
   "source": [
    "lista=[0.98,0.95,0.90,0.80]\n",
    "  \n",
    "\n",
    "umbrales , fprumb =tpr_to_umbrales(tpr1,fpr1,thresholds1,lista)\n",
    "\n",
    "for idx,i in enumerate(lista):\n",
    "    print(\"tpr:\"+str(i)+\"->fpr: \"+str(fprumb[idx])+\" con umbral: \"+str(umbrales[idx]))"
   ]
  },
  {
   "cell_type": "code",
   "execution_count": 18,
   "metadata": {},
   "outputs": [
    {
     "name": "stdout",
     "output_type": "stream",
     "text": [
      "tpr:0.8938280675973549->fpr: 0.20118074477747502 con umbral: 0.9894964\n"
     ]
    }
   ],
   "source": [
    "umbral_1,tpr_1,fpr_1=umbral_mejor(tpr1,fpr1,thresholds1)\n",
    "\n",
    "print(\"tpr:\"+str(tpr_1)+\"->fpr: \"+str(fpr_1)+\" con umbral: \"+str(umbral_1))"
   ]
  },
  {
   "cell_type": "markdown",
   "metadata": {},
   "source": [
    "Evaluación test \n"
   ]
  },
  {
   "cell_type": "code",
   "execution_count": 19,
   "metadata": {},
   "outputs": [
    {
     "data": {
      "text/plain": [
       "0.9145593308903326"
      ]
     },
     "execution_count": 19,
     "metadata": {},
     "output_type": "execute_result"
    }
   ],
   "source": [
    "roc_auc_score(test_labels, y_pred2)"
   ]
  },
  {
   "cell_type": "code",
   "execution_count": 20,
   "metadata": {},
   "outputs": [
    {
     "data": {
      "image/png": "[encoded data removed]",
      "text/plain": [
       "<Figure size 432x288 with 1 Axes>"
      ]
     },
     "metadata": {
      "needs_background": "light"
     },
     "output_type": "display_data"
    }
   ],
   "source": [
    "plot_roc_curve (fpr2,tpr2)"
   ]
  },
  {
   "cell_type": "code",
   "execution_count": 21,
   "metadata": {},
   "outputs": [
    {
     "name": "stdout",
     "output_type": "stream",
     "text": [
      "tpr:0.98->fpr: 0.37996469549867606 con umbral: 0.00011045791\n",
      "tpr:0.95->fpr: 0.2828773168578994 con umbral: 0.2572386\n",
      "tpr:0.9->fpr: 0.2003530450132392 con umbral: 0.9872224\n",
      "tpr:0.8->fpr: 0.13459841129744043 con umbral: 0.99984777\n"
     ]
    }
   ],
   "source": [
    "\n",
    "umbrales , fprumb =tpr_to_umbrales(tpr2,fpr2,thresholds2,lista)\n",
    "\n",
    "for idx,i in enumerate(lista):\n",
    "    print(\"tpr:\"+str(i)+\"->fpr: \"+str(fprumb[idx])+\" con umbral: \"+str(umbrales[idx]))"
   ]
  },
  {
   "cell_type": "code",
   "execution_count": 22,
   "metadata": {},
   "outputs": [
    {
     "name": "stdout",
     "output_type": "stream",
     "text": [
      "tpr:0.9092075397217013->fpr: 0.2082965578111209 con umbral: 0.97731733\n"
     ]
    }
   ],
   "source": [
    "umbral_2,tpr_2,fpr_2=umbral_mejor(tpr2,fpr2,thresholds2)\n",
    "\n",
    "print(\"tpr:\"+str(tpr_2)+\"->fpr: \"+str(fpr_2)+\" con umbral: \"+str(umbral_2))"
   ]
  },
  {
   "cell_type": "code",
   "execution_count": null,
   "metadata": {},
   "outputs": [],
   "source": []
  }
 ],
 "metadata": {
  "kernelspec": {
   "display_name": "Python 3",
   "language": "python",
   "name": "python3"
  },
  "language_info": {
   "codemirror_mode": {
    "name": "ipython",
    "version": 3
   },
   "file_extension": ".py",
   "mimetype": "text/x-python",
   "name": "python",
   "nbconvert_exporter": "python",
   "pygments_lexer": "ipython3",
   "version": "3.8.5"
  }
 },
 "nbformat": 4,
 "nbformat_minor": 4
}
