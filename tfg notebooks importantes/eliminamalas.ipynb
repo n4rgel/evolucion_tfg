{
 "cells": [
  {
   "cell_type": "code",
   "execution_count": 1,
   "metadata": {},
   "outputs": [],
   "source": [
    "import pandas as pd\n",
    "import os\n",
    "import numpy as np\n",
    "from PIL import Image\n",
    "import shutil\n",
    "from pylab import array, arange, uint8\n",
    "import cv2"
   ]
  },
  {
   "cell_type": "code",
   "execution_count": 2,
   "metadata": {},
   "outputs": [],
   "source": [
    "def eliminamalas(csv , origen):\n",
    "    Labels = pd.read_csv(csv)\n",
    "    listing = os.listdir(origen)\n",
    "\n",
    "    for file in listing:\n",
    "        \n",
    "        base = os.path.basename(origen + file)\n",
    "        fileName = os.path.splitext(base)[0]\n",
    "        \n",
    "        label=Labels.loc[Labels.image_name==fileName, 'gradability'].values[0]\n",
    "        if(label==0):\n",
    "            os.remove(origen + file) \n",
    "            \n",
    "      "
   ]
  },
  {
   "cell_type": "code",
   "execution_count": 3,
   "metadata": {},
   "outputs": [],
   "source": [
    "eliminamalas(\"malas.csv\",\"data_518//train_leve_fuerte//leve//\")\n",
    "eliminamalas(\"malas.csv\",\"data_518//train_leve_fuerte//fuerte//\")\n",
    "eliminamalas(\"malas.csv\",\"data_518//test1_leve_fuerte//leve//\")\n",
    "eliminamalas(\"malas.csv\",\"data_518//test1_leve_fuerte//fuerte//\")\n",
    "eliminamalas(\"malas.csv\",\"data_518//val1_leve_fuerte//leve//\")\n",
    "eliminamalas(\"malas.csv\",\"data_518//val1_leve_fuerte//fuerte//\")"
   ]
  },
  {
   "cell_type": "code",
   "execution_count": 4,
   "metadata": {},
   "outputs": [],
   "source": []
  }
 ],
 "metadata": {
  "kernelspec": {
   "display_name": "Python 3",
   "language": "python",
   "name": "python3"
  },
  "language_info": {
   "codemirror_mode": {
    "name": "ipython",
    "version": 3
   },
   "file_extension": ".py",
   "mimetype": "text/x-python",
   "name": "python",
   "nbconvert_exporter": "python",
   "pygments_lexer": "ipython3",
   "version": "3.8.5"
  }
 },
 "nbformat": 4,
 "nbformat_minor": 4
}
