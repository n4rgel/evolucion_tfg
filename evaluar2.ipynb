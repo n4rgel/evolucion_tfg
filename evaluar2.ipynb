{
 "cells": [
  {
   "cell_type": "code",
   "execution_count": 1,
   "metadata": {},
   "outputs": [
    {
     "name": "stdout",
     "output_type": "stream",
     "text": [
      "Num GPUS avadible: 1\n"
     ]
    }
   ],
   "source": [
    "import tensorflow as tf\n",
    "from tensorflow.keras.preprocessing.image import ImageDataGenerator\n",
    "\n",
    "import os\n",
    "import numpy as np\n",
    "import matplotlib.pyplot as plt\n",
    "import glob\n",
    "import shutil\n",
    "import logging\n",
    "\n",
    "import random\n",
    "from random import shuffle\n",
    "\n",
    "import imgaug as ia\n",
    "import imgaug.augmenters as iaa\n",
    "\n",
    "logger = tf.get_logger()\n",
    "logger.setLevel(logging.ERROR)\n",
    "\n",
    "\n",
    "print(\"Num GPUS avadible:\",len(tf.config.experimental.list_physical_devices('GPU')))"
   ]
  },
  {
   "cell_type": "code",
   "execution_count": 2,
   "metadata": {},
   "outputs": [],
   "source": [
    "\n",
    "val_dir = os.path.join('val1_2cat' )\n",
    "test1_dir = os.path.join('test1_2cat')\n",
    "\n",
    "img_height=299\n",
    "img_width=299\n",
    "batch_size=16"
   ]
  },
  {
   "cell_type": "code",
   "execution_count": 3,
   "metadata": {},
   "outputs": [],
   "source": [
    "\n",
    "val_0 = os.path.join(val_dir, '0') \n",
    "val_1 = os.path.join(val_dir, '1')\n",
    "\n",
    "test_0 = os.path.join(test1_dir, '0') \n",
    "test_1 = os.path.join(test1_dir, '1')\n",
    "\n",
    "\n",
    "#numeros\n",
    "num_0_vl = len(os.listdir(val_0))\n",
    "num_1_vl = len(os.listdir(val_1))\n",
    "\n",
    "num_0_t = len(os.listdir(test_0))\n",
    "num_1_t = len(os.listdir(test_1))\n",
    "\n",
    "\n",
    "total_val = num_0_vl + num_1_vl\n",
    "total_test = num_0_t + num_1_t"
   ]
  },
  {
   "cell_type": "code",
   "execution_count": 4,
   "metadata": {},
   "outputs": [],
   "source": [
    "def rescale_0_to_1(image):\n",
    "    \"\"\"\n",
    "    Rescale image to [0, 1].\n",
    "    :param image:\n",
    "        Required. Image tensor.\n",
    "    :return:\n",
    "        Scaled image.\n",
    "    \"\"\"\n",
    "    return tf.image.convert_image_dtype(image, tf.float64)\n",
    "\n",
    "def rescale_min_1_to_1(image):\n",
    "    \"\"\"\n",
    "    Rescale image to [-1, 1].\n",
    "    :param image:\n",
    "        Required. Image tensor.\n",
    "    :return:\n",
    "        Scaled image.\n",
    "    \"\"\"\n",
    "    # Image must be casted to float32 first.\n",
    "    image = tf.cast(image, tf.float64)\n",
    "    # Rescale image from [0, 255] to [0, 2].\n",
    "    image = tf.multiply(image, 1. / 127.5)\n",
    "    # Rescale to [-1, 1].\n",
    "    return tf.subtract(image, 1.0)"
   ]
  },
  {
   "cell_type": "code",
   "execution_count": 5,
   "metadata": {},
   "outputs": [
    {
     "name": "stdout",
     "output_type": "stream",
     "text": [
      "Found 19999 images belonging to 2 classes.\n"
     ]
    }
   ],
   "source": [
    "image_gen_val = ImageDataGenerator(\n",
    "    preprocessing_function=rescale_min_1_to_1\n",
    ")\n",
    "\n",
    "val_data_gen = image_gen_val.flow_from_directory(batch_size=batch_size,\n",
    "                                                   directory=val_dir,\n",
    "                                                   target_size=(img_height,img_width),\n",
    "                                                   class_mode='binary'\n",
    "                                                  )"
   ]
  },
  {
   "cell_type": "code",
   "execution_count": 6,
   "metadata": {},
   "outputs": [
    {
     "name": "stdout",
     "output_type": "stream",
     "text": [
      "Found 12865 images belonging to 2 classes.\n"
     ]
    }
   ],
   "source": [
    "image_gen_test = ImageDataGenerator(\n",
    "    preprocessing_function=rescale_min_1_to_1\n",
    ")\n",
    "\n",
    "test_data_gen = image_gen_test.flow_from_directory(batch_size=batch_size,\n",
    "                                                   directory=test1_dir,\n",
    "                                                   target_size=(img_height,img_width),\n",
    "                                                   class_mode='binary'\n",
    "                                                  )"
   ]
  },
  {
   "cell_type": "code",
   "execution_count": 7,
   "metadata": {},
   "outputs": [],
   "source": [
    "import math  \n",
    "   \n",
    "####val####\n",
    "\n",
    "number_of_examples1 = len(val_data_gen.filenames)\n",
    "number_of_generator_calls1 = math.ceil(number_of_examples1 / (1.0 * batch_size)) \n",
    "# 1.0 above is to skip integer division\n",
    "\n",
    "val_labels = []\n",
    "\n",
    "for i in range(0,int(number_of_generator_calls1)):\n",
    "    val_labels.extend(np.array(val_data_gen[i][1]))\n",
    "    \n",
    "    \n",
    "    \n",
    "    \n",
    "####test####\n",
    "    \n",
    "number_of_examples2 = len(test_data_gen.filenames)\n",
    "number_of_generator_calls2 = math.ceil(number_of_examples2 / (1.0 * batch_size)) \n",
    "# 1.0 above is to skip integer division\n",
    "\n",
    "test_labels = []\n",
    "\n",
    "for i in range(0,int(number_of_generator_calls2)):\n",
    "    test_labels.extend(np.array(test_data_gen[i][1]))    "
   ]
  },
  {
   "cell_type": "code",
   "execution_count": 8,
   "metadata": {},
   "outputs": [],
   "source": [
    "model = tf.keras.models.load_model('prueban14.h5')\n",
    "\n",
    "y_pred1 =  model.predict_generator(val_data_gen, steps= int(np.ceil(total_val / float(batch_size))))\n",
    "\n",
    "y_pred2 =  model.predict_generator(test_data_gen, steps= int(np.ceil(total_test / float(batch_size))))\n",
    "\n"
   ]
  },
  {
   "cell_type": "code",
   "execution_count": 9,
   "metadata": {},
   "outputs": [],
   "source": [
    "from sklearn.metrics import roc_curve,roc_auc_score\n",
    "\n",
    "fpr1 , tpr1 , thresholds1 = roc_curve ( val_labels , y_pred1)\n",
    "\n",
    "fpr2 , tpr2 , thresholds2 = roc_curve ( test_labels , y_pred2)\n",
    "\n"
   ]
  },
  {
   "cell_type": "code",
   "execution_count": 10,
   "metadata": {},
   "outputs": [],
   "source": [
    "def plot_roc_curve(fpr,tpr): \n",
    "  plt.plot(fpr,tpr) \n",
    "  plt.axis([0,1,0,1]) \n",
    "  plt.xlabel('False Positive Rate') \n",
    "  plt.ylabel('True Positive Rate') \n",
    "  plt.show()    \n",
    "  \n"
   ]
  },
  {
   "cell_type": "code",
   "execution_count": 11,
   "metadata": {},
   "outputs": [],
   "source": [
    "def tpr_to_umbrales(tpr,fpr,thresholds,lista):\n",
    "    umbrales=[]\n",
    "    fprumb=[]\n",
    "    \n",
    "    for i in lista:\n",
    "        umbrales.append(thresholds[(np.where(tpr>=i))[0][0]])\n",
    "        fprumb.append(fpr[(np.where(tpr>=i))[0][0]])\n",
    "    \n",
    "    return (umbrales, fprumb)"
   ]
  },
  {
   "cell_type": "code",
   "execution_count": 12,
   "metadata": {},
   "outputs": [],
   "source": [
    "def umbral_mejor(tpr,fpr,thresholds):\n",
    "    distancias=(1-tpr)+fpr\n",
    "    \n",
    "    umbral=thresholds[(np.where(distancias==min(distancias)))[0][0]]\n",
    "    tpr1=tpr[(np.where(distancias==min(distancias)))[0][0]]\n",
    "    fpr1=fpr[(np.where(distancias==min(distancias)))[0][0]]\n",
    "    \n",
    "    return (umbral,tpr1,fpr1)"
   ]
  },
  {
   "cell_type": "markdown",
   "metadata": {},
   "source": [
    "Evaluación Validación\n"
   ]
  },
  {
   "cell_type": "code",
   "execution_count": 13,
   "metadata": {},
   "outputs": [
    {
     "data": {
      "text/plain": [
       "0.8085558663510819"
      ]
     },
     "execution_count": 13,
     "metadata": {},
     "output_type": "execute_result"
    }
   ],
   "source": [
    "roc_auc_score(val_labels, y_pred1)"
   ]
  },
  {
   "cell_type": "code",
   "execution_count": 14,
   "metadata": {},
   "outputs": [
    {
     "data": {
      "image/png": "[encoded data removed]",
      "text/plain": [
       "<Figure size 432x288 with 1 Axes>"
      ]
     },
     "metadata": {
      "needs_background": "light"
     },
     "output_type": "display_data"
    }
   ],
   "source": [
    "plot_roc_curve (fpr1,tpr1)"
   ]
  },
  {
   "cell_type": "code",
   "execution_count": 15,
   "metadata": {},
   "outputs": [
    {
     "name": "stdout",
     "output_type": "stream",
     "text": [
      "tpr:0.98->fpr: 0.9271368839536637 con umbral: 3.267302e-36\n",
      "tpr:0.95->fpr: 0.8097196517924463 con umbral: 1.6559375e-31\n",
      "tpr:0.9->fpr: 0.6332168071834944 con umbral: 3.8117473e-25\n",
      "tpr:0.8->fpr: 0.38906025087394613 con umbral: 6.6211574e-15\n"
     ]
    }
   ],
   "source": [
    "lista=[0.98,0.95,0.90,0.80]\n",
    "  \n",
    "\n",
    "umbrales , fprumb =tpr_to_umbrales(tpr1,fpr1,thresholds1,lista)\n",
    "\n",
    "for idx,i in enumerate(lista):\n",
    "    print(\"tpr:\"+str(i)+\"->fpr: \"+str(fprumb[idx])+\" con umbral: \"+str(umbrales[idx]))"
   ]
  },
  {
   "cell_type": "code",
   "execution_count": 16,
   "metadata": {},
   "outputs": [
    {
     "name": "stdout",
     "output_type": "stream",
     "text": [
      "tpr:0.6428835489833642->fpr: 0.1533347042292138 con umbral: 0.007996252\n"
     ]
    }
   ],
   "source": [
    "umbral_1,tpr_1,fpr_1=umbral_mejor(tpr1,fpr1,thresholds1)\n",
    "\n",
    "print(\"tpr:\"+str(tpr_1)+\"->fpr: \"+str(fpr_1)+\" con umbral: \"+str(umbral_1))"
   ]
  },
  {
   "cell_type": "markdown",
   "metadata": {},
   "source": [
    "Evaluación test \n"
   ]
  },
  {
   "cell_type": "code",
   "execution_count": 17,
   "metadata": {},
   "outputs": [
    {
     "data": {
      "text/plain": [
       "0.8105862539608506"
      ]
     },
     "execution_count": 17,
     "metadata": {},
     "output_type": "execute_result"
    }
   ],
   "source": [
    "roc_auc_score(test_labels, y_pred2)"
   ]
  },
  {
   "cell_type": "code",
   "execution_count": 18,
   "metadata": {},
   "outputs": [
    {
     "data": {
      "image/png": "[encoded data removed]",
      "text/plain": [
       "<Figure size 432x288 with 1 Axes>"
      ]
     },
     "metadata": {
      "needs_background": "light"
     },
     "output_type": "display_data"
    }
   ],
   "source": [
    "plot_roc_curve (fpr2,tpr2)"
   ]
  },
  {
   "cell_type": "code",
   "execution_count": 19,
   "metadata": {},
   "outputs": [
    {
     "name": "stdout",
     "output_type": "stream",
     "text": [
      "tpr:0.98->fpr: 0.934369421400819 con umbral: 1.5276428e-36\n",
      "tpr:0.95->fpr: 0.8158143442192587 con umbral: 5.892052e-32\n",
      "tpr:0.9->fpr: 0.6421295810143862 con umbral: 7.194235e-26\n",
      "tpr:0.8->fpr: 0.37215163288879555 con umbral: 1.0476518e-14\n"
     ]
    }
   ],
   "source": [
    "\n",
    "umbrales , fprumb =tpr_to_umbrales(tpr2,fpr2,thresholds2,lista)\n",
    "\n",
    "for idx,i in enumerate(lista):\n",
    "    print(\"tpr:\"+str(i)+\"->fpr: \"+str(fprumb[idx])+\" con umbral: \"+str(umbrales[idx]))"
   ]
  },
  {
   "cell_type": "code",
   "execution_count": 20,
   "metadata": {},
   "outputs": [
    {
     "name": "stdout",
     "output_type": "stream",
     "text": [
      "tpr:0.6804308797127468->fpr: 0.17946025412160033 con umbral: 0.00014305634\n"
     ]
    }
   ],
   "source": [
    "umbral_2,tpr_2,fpr_2=umbral_mejor(tpr2,fpr2,thresholds2)\n",
    "\n",
    "print(\"tpr:\"+str(tpr_2)+\"->fpr: \"+str(fpr_2)+\" con umbral: \"+str(umbral_2))"
   ]
  },
  {
   "cell_type": "code",
   "execution_count": null,
   "metadata": {},
   "outputs": [],
   "source": []
  }
 ],
 "metadata": {
  "kernelspec": {
   "display_name": "Python 3",
   "language": "python",
   "name": "python3"
  },
  "language_info": {
   "codemirror_mode": {
    "name": "ipython",
    "version": 3
   },
   "file_extension": ".py",
   "mimetype": "text/x-python",
   "name": "python",
   "nbconvert_exporter": "python",
   "pygments_lexer": "ipython3",
   "version": "3.7.7"
  }
 },
 "nbformat": 4,
 "nbformat_minor": 4
}
