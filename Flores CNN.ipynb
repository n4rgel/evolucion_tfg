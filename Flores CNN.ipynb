{
 "cells": [
  {
   "cell_type": "code",
   "execution_count": 1,
   "metadata": {},
   "outputs": [],
   "source": [
    "import tensorflow as tf\n",
    "from tensorflow.keras.preprocessing.image import ImageDataGenerator\n",
    "\n",
    "import os\n",
    "import numpy as np\n",
    "import matplotlib.pyplot as plt\n",
    "import glob\n",
    "import shutil\n",
    "import logging\n",
    "logger = tf.get_logger()\n",
    "logger.setLevel(logging.ERROR)"
   ]
  },
  {
   "cell_type": "code",
   "execution_count": 2,
   "metadata": {},
   "outputs": [],
   "source": [
    "#descargar y descomprimir base de datos\n",
    "_URL = \"https://storage.googleapis.com/download.tensorflow.org/example_images/flower_photos.tgz\"\n",
    "\n",
    "zip_file = tf.keras.utils.get_file(origin=_URL,\n",
    "                                   fname=\"flower_photos.tgz\",\n",
    "                                   extract=True)\n",
    "\n",
    "base_dir = os.path.join(os.path.dirname(zip_file), 'flower_photos')"
   ]
  },
  {
   "cell_type": "code",
   "execution_count": 3,
   "metadata": {},
   "outputs": [],
   "source": [
    "classes = ['roses', 'daisy', 'dandelion', 'sunflowers', 'tulips']"
   ]
  },
  {
   "cell_type": "code",
   "execution_count": 4,
   "metadata": {},
   "outputs": [
    {
     "name": "stdout",
     "output_type": "stream",
     "text": [
      "roses: 641 Images\n"
     ]
    },
    {
     "ename": "Error",
     "evalue": "Destination path 'C:\\Users\\nargel\\.keras\\datasets\\flower_photos\\train\\roses\\10090824183_d02c613f10_m.jpg' already exists",
     "output_type": "error",
     "traceback": [
      "\u001b[1;31m---------------------------------------------------------------------------\u001b[0m",
      "\u001b[1;31mError\u001b[0m                                     Traceback (most recent call last)",
      "\u001b[1;32m<ipython-input-4-228308faba56>\u001b[0m in \u001b[0;36m<module>\u001b[1;34m\u001b[0m\n\u001b[0;32m      9\u001b[0m     \u001b[1;32mif\u001b[0m \u001b[1;32mnot\u001b[0m \u001b[0mos\u001b[0m\u001b[1;33m.\u001b[0m\u001b[0mpath\u001b[0m\u001b[1;33m.\u001b[0m\u001b[0mexists\u001b[0m\u001b[1;33m(\u001b[0m\u001b[0mos\u001b[0m\u001b[1;33m.\u001b[0m\u001b[0mpath\u001b[0m\u001b[1;33m.\u001b[0m\u001b[0mjoin\u001b[0m\u001b[1;33m(\u001b[0m\u001b[0mbase_dir\u001b[0m\u001b[1;33m,\u001b[0m \u001b[1;34m'train'\u001b[0m\u001b[1;33m,\u001b[0m \u001b[0mcl\u001b[0m\u001b[1;33m)\u001b[0m\u001b[1;33m)\u001b[0m\u001b[1;33m:\u001b[0m\u001b[1;33m\u001b[0m\u001b[1;33m\u001b[0m\u001b[0m\n\u001b[0;32m     10\u001b[0m       \u001b[0mos\u001b[0m\u001b[1;33m.\u001b[0m\u001b[0mmakedirs\u001b[0m\u001b[1;33m(\u001b[0m\u001b[0mos\u001b[0m\u001b[1;33m.\u001b[0m\u001b[0mpath\u001b[0m\u001b[1;33m.\u001b[0m\u001b[0mjoin\u001b[0m\u001b[1;33m(\u001b[0m\u001b[0mbase_dir\u001b[0m\u001b[1;33m,\u001b[0m \u001b[1;34m'train'\u001b[0m\u001b[1;33m,\u001b[0m \u001b[0mcl\u001b[0m\u001b[1;33m)\u001b[0m\u001b[1;33m)\u001b[0m\u001b[1;33m\u001b[0m\u001b[1;33m\u001b[0m\u001b[0m\n\u001b[1;32m---> 11\u001b[1;33m     \u001b[0mshutil\u001b[0m\u001b[1;33m.\u001b[0m\u001b[0mmove\u001b[0m\u001b[1;33m(\u001b[0m\u001b[0mt\u001b[0m\u001b[1;33m,\u001b[0m \u001b[0mos\u001b[0m\u001b[1;33m.\u001b[0m\u001b[0mpath\u001b[0m\u001b[1;33m.\u001b[0m\u001b[0mjoin\u001b[0m\u001b[1;33m(\u001b[0m\u001b[0mbase_dir\u001b[0m\u001b[1;33m,\u001b[0m \u001b[1;34m'train'\u001b[0m\u001b[1;33m,\u001b[0m \u001b[0mcl\u001b[0m\u001b[1;33m)\u001b[0m\u001b[1;33m)\u001b[0m\u001b[1;33m\u001b[0m\u001b[1;33m\u001b[0m\u001b[0m\n\u001b[0m\u001b[0;32m     12\u001b[0m \u001b[1;33m\u001b[0m\u001b[0m\n\u001b[0;32m     13\u001b[0m   \u001b[1;32mfor\u001b[0m \u001b[0mv\u001b[0m \u001b[1;32min\u001b[0m \u001b[0mval\u001b[0m\u001b[1;33m:\u001b[0m\u001b[1;33m\u001b[0m\u001b[1;33m\u001b[0m\u001b[0m\n",
      "\u001b[1;32m~\\anaconda3\\envs\\tf-gpu\\lib\\shutil.py\u001b[0m in \u001b[0;36mmove\u001b[1;34m(src, dst, copy_function)\u001b[0m\n\u001b[0;32m    562\u001b[0m         \u001b[0mreal_dst\u001b[0m \u001b[1;33m=\u001b[0m \u001b[0mos\u001b[0m\u001b[1;33m.\u001b[0m\u001b[0mpath\u001b[0m\u001b[1;33m.\u001b[0m\u001b[0mjoin\u001b[0m\u001b[1;33m(\u001b[0m\u001b[0mdst\u001b[0m\u001b[1;33m,\u001b[0m \u001b[0m_basename\u001b[0m\u001b[1;33m(\u001b[0m\u001b[0msrc\u001b[0m\u001b[1;33m)\u001b[0m\u001b[1;33m)\u001b[0m\u001b[1;33m\u001b[0m\u001b[1;33m\u001b[0m\u001b[0m\n\u001b[0;32m    563\u001b[0m         \u001b[1;32mif\u001b[0m \u001b[0mos\u001b[0m\u001b[1;33m.\u001b[0m\u001b[0mpath\u001b[0m\u001b[1;33m.\u001b[0m\u001b[0mexists\u001b[0m\u001b[1;33m(\u001b[0m\u001b[0mreal_dst\u001b[0m\u001b[1;33m)\u001b[0m\u001b[1;33m:\u001b[0m\u001b[1;33m\u001b[0m\u001b[1;33m\u001b[0m\u001b[0m\n\u001b[1;32m--> 564\u001b[1;33m             \u001b[1;32mraise\u001b[0m \u001b[0mError\u001b[0m\u001b[1;33m(\u001b[0m\u001b[1;34m\"Destination path '%s' already exists\"\u001b[0m \u001b[1;33m%\u001b[0m \u001b[0mreal_dst\u001b[0m\u001b[1;33m)\u001b[0m\u001b[1;33m\u001b[0m\u001b[1;33m\u001b[0m\u001b[0m\n\u001b[0m\u001b[0;32m    565\u001b[0m     \u001b[1;32mtry\u001b[0m\u001b[1;33m:\u001b[0m\u001b[1;33m\u001b[0m\u001b[1;33m\u001b[0m\u001b[0m\n\u001b[0;32m    566\u001b[0m         \u001b[0mos\u001b[0m\u001b[1;33m.\u001b[0m\u001b[0mrename\u001b[0m\u001b[1;33m(\u001b[0m\u001b[0msrc\u001b[0m\u001b[1;33m,\u001b[0m \u001b[0mreal_dst\u001b[0m\u001b[1;33m)\u001b[0m\u001b[1;33m\u001b[0m\u001b[1;33m\u001b[0m\u001b[0m\n",
      "\u001b[1;31mError\u001b[0m: Destination path 'C:\\Users\\nargel\\.keras\\datasets\\flower_photos\\train\\roses\\10090824183_d02c613f10_m.jpg' already exists"
     ]
    }
   ],
   "source": [
    "#crear las carpetas de entrenamiento y test\n",
    "for cl in classes:\n",
    "  img_path = os.path.join(base_dir, cl)\n",
    "  images = glob.glob(img_path + '/*.jpg')\n",
    "  print(\"{}: {} Images\".format(cl, len(images)))\n",
    "  train, val = images[:round(len(images)*0.8)], images[round(len(images)*0.8):]\n",
    "\n",
    "  for t in train:\n",
    "    if not os.path.exists(os.path.join(base_dir, 'train', cl)):\n",
    "      os.makedirs(os.path.join(base_dir, 'train', cl))\n",
    "    shutil.move(t, os.path.join(base_dir, 'train', cl))\n",
    "\n",
    "  for v in val:\n",
    "    if not os.path.exists(os.path.join(base_dir, 'val', cl)):\n",
    "      os.makedirs(os.path.join(base_dir, 'val', cl))\n",
    "    shutil.move(v, os.path.join(base_dir, 'val', cl))\n",
    "    \n",
    "    \n",
    "\n"
   ]
  },
  {
   "cell_type": "code",
   "execution_count": 5,
   "metadata": {},
   "outputs": [],
   "source": [
    "#el carpeteo\n",
    "\n",
    "train_dir = os.path.join(base_dir, 'train')\n",
    "val_dir = os.path.join(base_dir, 'val')\n",
    "\n",
    "\n",
    "train_daisy_dir = os.path.join(train_dir, 'daisy') \n",
    "train_dandelion_dir = os.path.join(train_dir, 'dandelion')\n",
    "train_roses_dir = os.path.join(train_dir, 'roses') \n",
    "train_sunflowers_dir = os.path.join(train_dir, 'sunflowers')  \n",
    "train_tulips_dir = os.path.join(train_dir, 'tulips') \n",
    "\n",
    "\n",
    "val_daisy_dir = os.path.join(val_dir, 'daisy') \n",
    "val_dandelion_dir = os.path.join(val_dir, 'dandelion')\n",
    "val_roses_dir = os.path.join(val_dir, 'roses') \n",
    "val_sunflowers_dir = os.path.join(val_dir, 'sunflowers')  \n",
    "val_tulips_dir = os.path.join(val_dir, 'tulips') \n",
    "\n",
    "\n",
    "#numeros\n",
    "num_daisy_tr = len(os.listdir(train_daisy_dir))\n",
    "num_dandelion_tr = len(os.listdir(train_dandelion_dir))\n",
    "num_roses_tr = len(os.listdir(train_roses_dir))\n",
    "num_sunflowers_tr = len(os.listdir(train_sunflowers_dir))\n",
    "num_tulips_tr = len(os.listdir(train_tulips_dir))\n",
    "\n",
    "num_daisy_v = len(os.listdir(val_daisy_dir))\n",
    "num_dandelion_v = len(os.listdir(val_dandelion_dir))\n",
    "num_roses_v = len(os.listdir(val_roses_dir))\n",
    "num_sunflowers_v = len(os.listdir(val_sunflowers_dir))\n",
    "num_tulips_v = len(os.listdir(val_tulips_dir))\n",
    "\n",
    "\n",
    "total_train = num_daisy_tr + num_dandelion_tr + num_roses_tr + num_sunflowers_tr + num_tulips_tr\n",
    "total_val = num_daisy_v + num_dandelion_v + num_roses_v + num_sunflowers_v + num_tulips_v\n",
    " \n"
   ]
  },
  {
   "cell_type": "code",
   "execution_count": 10,
   "metadata": {},
   "outputs": [
    {
     "name": "stdout",
     "output_type": "stream",
     "text": [
      "Found 2935 images belonging to 5 classes.\n"
     ]
    }
   ],
   "source": [
    "#augmentación para set de entrenamiento \n",
    "image_gen_train = ImageDataGenerator(\n",
    "      rescale=1./255,\n",
    "      rotation_range=40,\n",
    "      width_shift_range=0.2,\n",
    "      height_shift_range=0.2,\n",
    "      shear_range=0.2,\n",
    "      zoom_range=0.2,\n",
    "      horizontal_flip=True,\n",
    "      fill_mode='nearest')\n",
    "\n",
    "train_data_gen = image_gen_train.flow_from_directory(batch_size=100,\n",
    "                                                     directory=train_dir,\n",
    "                                                     shuffle=True,\n",
    "                                                     target_size=(299,299),\n",
    "                                                     class_mode='binary')\n"
   ]
  },
  {
   "cell_type": "code",
   "execution_count": 11,
   "metadata": {},
   "outputs": [
    {
     "name": "stdout",
     "output_type": "stream",
     "text": [
      "Found 735 images belonging to 5 classes.\n"
     ]
    }
   ],
   "source": [
    "image_gen_val = ImageDataGenerator(rescale=1./255)\n",
    "\n",
    "val_data_gen = image_gen_val.flow_from_directory(batch_size=100,\n",
    "                                                 directory=val_dir,\n",
    "                                                 target_size=(299, 299),\n",
    "                                                 class_mode='binary')"
   ]
  },
  {
   "cell_type": "code",
   "execution_count": 12,
   "metadata": {},
   "outputs": [],
   "source": [
    "def plotImages(images_arr):\n",
    "    fig, axes = plt.subplots(1, 5, figsize=(20,20))\n",
    "    axes = axes.flatten()\n",
    "    for img, ax in zip( images_arr, axes):\n",
    "        ax.imshow(img)\n",
    "    plt.tight_layout()\n",
    "    plt.show()\n"
   ]
  },
  {
   "cell_type": "code",
   "execution_count": 26,
   "metadata": {},
   "outputs": [
    {
     "name": "stdout",
     "output_type": "stream",
     "text": [
      "Model: \"sequential_9\"\n",
      "_________________________________________________________________\n",
      "Layer (type)                 Output Shape              Param #   \n",
      "=================================================================\n",
      "conv2d_38 (Conv2D)           (None, 297, 297, 16)      448       \n",
      "_________________________________________________________________\n",
      "max_pooling2d_38 (MaxPooling (None, 148, 148, 16)      0         \n",
      "_________________________________________________________________\n",
      "conv2d_39 (Conv2D)           (None, 146, 146, 64)      9280      \n",
      "_________________________________________________________________\n",
      "max_pooling2d_39 (MaxPooling (None, 73, 73, 64)        0         \n",
      "_________________________________________________________________\n",
      "conv2d_40 (Conv2D)           (None, 71, 71, 128)       73856     \n",
      "_________________________________________________________________\n",
      "max_pooling2d_40 (MaxPooling (None, 35, 35, 128)       0         \n",
      "_________________________________________________________________\n",
      "conv2d_41 (Conv2D)           (None, 33, 33, 128)       147584    \n",
      "_________________________________________________________________\n",
      "max_pooling2d_41 (MaxPooling (None, 16, 16, 128)       0         \n",
      "_________________________________________________________________\n",
      "flatten_9 (Flatten)          (None, 32768)             0         \n",
      "_________________________________________________________________\n",
      "dropout_9 (Dropout)          (None, 32768)             0         \n",
      "_________________________________________________________________\n",
      "dense_18 (Dense)             (None, 128)               4194432   \n",
      "_________________________________________________________________\n",
      "dense_19 (Dense)             (None, 5)                 645       \n",
      "=================================================================\n",
      "Total params: 4,426,245\n",
      "Trainable params: 4,426,245\n",
      "Non-trainable params: 0\n",
      "_________________________________________________________________\n"
     ]
    }
   ],
   "source": [
    "with tf.device('/GPU:0'):\n",
    "    model = tf.keras.models.Sequential([\n",
    "        tf.keras.layers.Conv2D(16, (3,3), activation='relu', input_shape=(299, 299, 3)),\n",
    "        tf.keras.layers.MaxPooling2D(2, 2),\n",
    "\n",
    "        tf.keras.layers.Conv2D(64, (3,3), activation='relu'),\n",
    "        tf.keras.layers.MaxPooling2D(2,2),\n",
    "\n",
    "        tf.keras.layers.Conv2D(128, (3,3), activation='relu'),\n",
    "        tf.keras.layers.MaxPooling2D(2,2),\n",
    "\n",
    "        tf.keras.layers.Conv2D(128, (3,3), activation='relu'),\n",
    "        tf.keras.layers.MaxPooling2D(2,2),\n",
    "\n",
    "        tf.keras.layers.Flatten(),\n",
    "\n",
    "        tf.keras.layers.Dropout(0.2),\n",
    "        tf.keras.layers.Dense(128, activation='relu'),\n",
    "        tf.keras.layers.Dense(5,activation='softmax')\n",
    "    ])\n",
    "\n",
    "    model.compile(optimizer='adam',\n",
    "                  loss=tf.keras.losses.SparseCategoricalCrossentropy(from_logits=True),\n",
    "                  metrics=['accuracy'])\n",
    "\n",
    "    model.summary()"
   ]
  },
  {
   "cell_type": "code",
   "execution_count": 27,
   "metadata": {},
   "outputs": [
    {
     "name": "stdout",
     "output_type": "stream",
     "text": [
      "Train for 30 steps, validate for 8 steps\n",
      "Epoch 1/50\n",
      "30/30 [==============================] - 57s 2s/step - loss: 1.5281 - accuracy: 0.3332 - val_loss: 1.3964 - val_accuracy: 0.4912\n",
      "Epoch 2/50\n",
      "30/30 [==============================] - 55s 2s/step - loss: 1.4135 - accuracy: 0.4835 - val_loss: 1.3169 - val_accuracy: 0.5823\n",
      "Epoch 3/50\n",
      "30/30 [==============================] - 56s 2s/step - loss: 1.3492 - accuracy: 0.5523 - val_loss: 1.3034 - val_accuracy: 0.5864\n",
      "Epoch 4/50\n",
      "30/30 [==============================] - 56s 2s/step - loss: 1.3394 - accuracy: 0.5629 - val_loss: 1.3561 - val_accuracy: 0.5320\n",
      "Epoch 5/50\n",
      "30/30 [==============================] - 56s 2s/step - loss: 1.3928 - accuracy: 0.5063 - val_loss: 1.3128 - val_accuracy: 0.5878\n",
      "Epoch 6/50\n",
      "30/30 [==============================] - 55s 2s/step - loss: 1.3391 - accuracy: 0.5652 - val_loss: 1.3105 - val_accuracy: 0.5823\n",
      "Epoch 7/50\n",
      "30/30 [==============================] - 56s 2s/step - loss: 1.3457 - accuracy: 0.5550 - val_loss: 1.3269 - val_accuracy: 0.5673\n",
      "Epoch 8/50\n",
      "30/30 [==============================] - 56s 2s/step - loss: 1.3515 - accuracy: 0.5509 - val_loss: 1.3223 - val_accuracy: 0.5673\n",
      "Epoch 9/50\n",
      "30/30 [==============================] - 55s 2s/step - loss: 1.3239 - accuracy: 0.5799 - val_loss: 1.3007 - val_accuracy: 0.5864\n",
      "Epoch 10/50\n",
      "30/30 [==============================] - 56s 2s/step - loss: 1.3274 - accuracy: 0.5704 - val_loss: 1.3145 - val_accuracy: 0.5918\n",
      "Epoch 11/50\n",
      "30/30 [==============================] - 56s 2s/step - loss: 1.3226 - accuracy: 0.5809 - val_loss: 1.3031 - val_accuracy: 0.6041\n",
      "Epoch 12/50\n",
      "30/30 [==============================] - 56s 2s/step - loss: 1.3211 - accuracy: 0.5816 - val_loss: 1.2986 - val_accuracy: 0.5918\n",
      "Epoch 13/50\n",
      "30/30 [==============================] - 56s 2s/step - loss: 1.2921 - accuracy: 0.6068 - val_loss: 1.2638 - val_accuracy: 0.6259\n",
      "Epoch 14/50\n",
      "30/30 [==============================] - 55s 2s/step - loss: 1.3132 - accuracy: 0.5922 - val_loss: 1.2446 - val_accuracy: 0.6490\n",
      "Epoch 15/50\n",
      "30/30 [==============================] - 56s 2s/step - loss: 1.3199 - accuracy: 0.5850 - val_loss: 1.2789 - val_accuracy: 0.6136\n",
      "Epoch 16/50\n",
      "30/30 [==============================] - 55s 2s/step - loss: 1.2853 - accuracy: 0.6160 - val_loss: 1.2286 - val_accuracy: 0.6626\n",
      "Epoch 17/50\n",
      "30/30 [==============================] - 56s 2s/step - loss: 1.2899 - accuracy: 0.6112 - val_loss: 1.2670 - val_accuracy: 0.6272\n",
      "Epoch 18/50\n",
      "30/30 [==============================] - 56s 2s/step - loss: 1.2746 - accuracy: 0.6283 - val_loss: 1.2379 - val_accuracy: 0.6571\n",
      "Epoch 19/50\n",
      "30/30 [==============================] - 55s 2s/step - loss: 1.3047 - accuracy: 0.5969 - val_loss: 1.2487 - val_accuracy: 0.6463\n",
      "Epoch 20/50\n",
      "30/30 [==============================] - 56s 2s/step - loss: 1.2705 - accuracy: 0.6310 - val_loss: 1.2435 - val_accuracy: 0.6571\n",
      "Epoch 21/50\n",
      "30/30 [==============================] - 56s 2s/step - loss: 1.2960 - accuracy: 0.6078 - val_loss: 1.2177 - val_accuracy: 0.6816\n",
      "Epoch 22/50\n",
      "30/30 [==============================] - 56s 2s/step - loss: 1.2745 - accuracy: 0.6269 - val_loss: 1.2150 - val_accuracy: 0.6803\n",
      "Epoch 23/50\n",
      "30/30 [==============================] - 55s 2s/step - loss: 1.2571 - accuracy: 0.6450 - val_loss: 1.2702 - val_accuracy: 0.6286\n",
      "Epoch 24/50\n",
      "30/30 [==============================] - 56s 2s/step - loss: 1.2751 - accuracy: 0.6303 - val_loss: 1.2612 - val_accuracy: 0.6408\n",
      "Epoch 25/50\n",
      "30/30 [==============================] - 55s 2s/step - loss: 1.2525 - accuracy: 0.6480 - val_loss: 1.2128 - val_accuracy: 0.6816\n",
      "Epoch 26/50\n",
      "30/30 [==============================] - 56s 2s/step - loss: 1.2610 - accuracy: 0.6409 - val_loss: 1.2134 - val_accuracy: 0.6816\n",
      "Epoch 27/50\n",
      "30/30 [==============================] - 56s 2s/step - loss: 1.2593 - accuracy: 0.6433 - val_loss: 1.2580 - val_accuracy: 0.6463\n",
      "Epoch 28/50\n",
      "30/30 [==============================] - 56s 2s/step - loss: 1.2787 - accuracy: 0.6239 - val_loss: 1.2562 - val_accuracy: 0.6449\n",
      "Epoch 29/50\n",
      "30/30 [==============================] - 55s 2s/step - loss: 1.2737 - accuracy: 0.6279 - val_loss: 1.2293 - val_accuracy: 0.6680\n",
      "Epoch 30/50\n",
      "30/30 [==============================] - 56s 2s/step - loss: 1.2532 - accuracy: 0.6477 - val_loss: 1.2363 - val_accuracy: 0.6626\n",
      "Epoch 31/50\n",
      "30/30 [==============================] - 56s 2s/step - loss: 1.2606 - accuracy: 0.6412 - val_loss: 1.2549 - val_accuracy: 0.6463\n",
      "Epoch 32/50\n",
      "30/30 [==============================] - 58s 2s/step - loss: 1.2606 - accuracy: 0.6429 - val_loss: 1.2709 - val_accuracy: 0.6286\n",
      "Epoch 33/50\n",
      "30/30 [==============================] - 57s 2s/step - loss: 1.2498 - accuracy: 0.6545 - val_loss: 1.1870 - val_accuracy: 0.7170\n",
      "Epoch 34/50\n",
      "30/30 [==============================] - 56s 2s/step - loss: 1.2262 - accuracy: 0.6770 - val_loss: 1.1697 - val_accuracy: 0.7265\n",
      "Epoch 35/50\n",
      "30/30 [==============================] - 56s 2s/step - loss: 1.2208 - accuracy: 0.6842 - val_loss: 1.1652 - val_accuracy: 0.7333\n",
      "Epoch 36/50\n",
      "30/30 [==============================] - 56s 2s/step - loss: 1.2046 - accuracy: 0.6998 - val_loss: 1.1823 - val_accuracy: 0.7116\n",
      "Epoch 37/50\n",
      "30/30 [==============================] - 55s 2s/step - loss: 1.2312 - accuracy: 0.6722 - val_loss: 1.1817 - val_accuracy: 0.7129\n",
      "Epoch 38/50\n",
      "30/30 [==============================] - 55s 2s/step - loss: 1.2085 - accuracy: 0.6968 - val_loss: 1.1762 - val_accuracy: 0.7156\n",
      "Epoch 39/50\n",
      "30/30 [==============================] - 55s 2s/step - loss: 1.2083 - accuracy: 0.6944 - val_loss: 1.1970 - val_accuracy: 0.6939\n",
      "Epoch 40/50\n",
      "30/30 [==============================] - 56s 2s/step - loss: 1.1997 - accuracy: 0.7019 - val_loss: 1.1827 - val_accuracy: 0.7156\n",
      "Epoch 41/50\n",
      "30/30 [==============================] - 56s 2s/step - loss: 1.2137 - accuracy: 0.6899 - val_loss: 1.2215 - val_accuracy: 0.6748\n",
      "Epoch 42/50\n",
      "30/30 [==============================] - 56s 2s/step - loss: 1.2196 - accuracy: 0.6831 - val_loss: 1.2100 - val_accuracy: 0.6884\n",
      "Epoch 43/50\n",
      "30/30 [==============================] - 57s 2s/step - loss: 1.2005 - accuracy: 0.7053 - val_loss: 1.1917 - val_accuracy: 0.7088\n",
      "Epoch 44/50\n",
      "30/30 [==============================] - 58s 2s/step - loss: 1.2074 - accuracy: 0.6934 - val_loss: 1.2261 - val_accuracy: 0.6735\n",
      "Epoch 45/50\n",
      "30/30 [==============================] - 57s 2s/step - loss: 1.2254 - accuracy: 0.6746 - val_loss: 1.1824 - val_accuracy: 0.7088\n",
      "Epoch 46/50\n",
      "30/30 [==============================] - 58s 2s/step - loss: 1.2007 - accuracy: 0.7015 - val_loss: 1.1701 - val_accuracy: 0.7293\n",
      "Epoch 47/50\n",
      "30/30 [==============================] - 57s 2s/step - loss: 1.1928 - accuracy: 0.7114 - val_loss: 1.1765 - val_accuracy: 0.7224\n",
      "Epoch 48/50\n",
      "30/30 [==============================] - 56s 2s/step - loss: 1.1942 - accuracy: 0.7073 - val_loss: 1.1463 - val_accuracy: 0.7510\n",
      "Epoch 49/50\n",
      "30/30 [==============================] - 56s 2s/step - loss: 1.1879 - accuracy: 0.7155 - val_loss: 1.1903 - val_accuracy: 0.7088\n",
      "Epoch 50/50\n",
      "30/30 [==============================] - 55s 2s/step - loss: 1.1908 - accuracy: 0.7087 - val_loss: 1.1625 - val_accuracy: 0.7401\n"
     ]
    }
   ],
   "source": [
    "with tf.device('/GPU:0'):\n",
    "    epochs=50\n",
    "    history = model.fit_generator(\n",
    "        train_data_gen,\n",
    "        steps_per_epoch=int(np.ceil(total_train / float(100))),\n",
    "        epochs=epochs,\n",
    "        validation_data=val_data_gen,\n",
    "        validation_steps=int(np.ceil(total_val / float(100)))\n",
    "    )"
   ]
  },
  {
   "cell_type": "code",
   "execution_count": 28,
   "metadata": {},
   "outputs": [
    {
     "data": {
      "image/png": "[encoded data removed]",
      "text/plain": [
       "<Figure size 576x576 with 2 Axes>"
      ]
     },
     "metadata": {
      "needs_background": "light"
     },
     "output_type": "display_data"
    }
   ],
   "source": [
    "acc = history.history['accuracy']\n",
    "val_acc = history.history['val_accuracy']\n",
    "\n",
    "loss = history.history['loss']\n",
    "val_loss = history.history['val_loss']\n",
    "\n",
    "epochs_range = range(epochs)\n",
    "\n",
    "plt.figure(figsize=(8, 8))\n",
    "plt.subplot(1, 2, 1)\n",
    "plt.plot(epochs_range, acc, label='Training Accuracy')\n",
    "plt.plot(epochs_range, val_acc, label='Validation Accuracy')\n",
    "plt.legend(loc='lower right')\n",
    "plt.title('Training and Validation Accuracy')\n",
    "\n",
    "plt.subplot(1, 2, 2)\n",
    "plt.plot(epochs_range, loss, label='Training Loss')\n",
    "plt.plot(epochs_range, val_loss, label='Validation Loss')\n",
    "plt.legend(loc='upper right')\n",
    "plt.title('Training and Validation Loss')\n",
    "plt.show()"
   ]
  },
  {
   "cell_type": "code",
   "execution_count": null,
   "metadata": {},
   "outputs": [],
   "source": []
  }
 ],
 "metadata": {
  "kernelspec": {
   "display_name": "Python 3",
   "language": "python",
   "name": "python3"
  },
  "language_info": {
   "codemirror_mode": {
    "name": "ipython",
    "version": 3
   },
   "file_extension": ".py",
   "mimetype": "text/x-python",
   "name": "python",
   "nbconvert_exporter": "python",
   "pygments_lexer": "ipython3",
   "version": "3.7.7"
  }
 },
 "nbformat": 4,
 "nbformat_minor": 4
}
