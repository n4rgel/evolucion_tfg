{
 "cells": [
  {
   "cell_type": "code",
   "execution_count": 1,
   "metadata": {},
   "outputs": [],
   "source": [
    "import tensorflow as tf\n",
    "from tensorflow.keras.preprocessing.image import ImageDataGenerator\n",
    "\n",
    "import os\n",
    "import numpy as np\n",
    "import matplotlib.pyplot as plt\n",
    "import glob\n",
    "import shutil\n",
    "import logging\n",
    "logger = tf.get_logger()\n",
    "logger.setLevel(logging.ERROR)"
   ]
  },
  {
   "cell_type": "code",
   "execution_count": 2,
   "metadata": {},
   "outputs": [],
   "source": [
    "#descargar y descomprimir base de datos\n",
    "_URL = \"https://storage.googleapis.com/download.tensorflow.org/example_images/flower_photos.tgz\"\n",
    "\n",
    "zip_file = tf.keras.utils.get_file(origin=_URL,\n",
    "                                   fname=\"flower_photos.tgz\",\n",
    "                                   extract=True)\n",
    "\n",
    "base_dir = os.path.join(os.path.dirname(zip_file), 'flower_photos')"
   ]
  },
  {
   "cell_type": "code",
   "execution_count": 3,
   "metadata": {},
   "outputs": [],
   "source": [
    "classes = ['roses', 'daisy', 'dandelion', 'sunflowers', 'tulips']"
   ]
  },
  {
   "cell_type": "code",
   "execution_count": 4,
   "metadata": {},
   "outputs": [
    {
     "name": "stdout",
     "output_type": "stream",
     "text": [
      "roses: 641 Images\n"
     ]
    },
    {
     "ename": "Error",
     "evalue": "Destination path 'C:\\Users\\nargel\\.keras\\datasets\\flower_photos\\train\\roses\\10090824183_d02c613f10_m.jpg' already exists",
     "output_type": "error",
     "traceback": [
      "\u001b[1;31m---------------------------------------------------------------------------\u001b[0m",
      "\u001b[1;31mError\u001b[0m                                     Traceback (most recent call last)",
      "\u001b[1;32m<ipython-input-4-228308faba56>\u001b[0m in \u001b[0;36m<module>\u001b[1;34m\u001b[0m\n\u001b[0;32m      9\u001b[0m     \u001b[1;32mif\u001b[0m \u001b[1;32mnot\u001b[0m \u001b[0mos\u001b[0m\u001b[1;33m.\u001b[0m\u001b[0mpath\u001b[0m\u001b[1;33m.\u001b[0m\u001b[0mexists\u001b[0m\u001b[1;33m(\u001b[0m\u001b[0mos\u001b[0m\u001b[1;33m.\u001b[0m\u001b[0mpath\u001b[0m\u001b[1;33m.\u001b[0m\u001b[0mjoin\u001b[0m\u001b[1;33m(\u001b[0m\u001b[0mbase_dir\u001b[0m\u001b[1;33m,\u001b[0m \u001b[1;34m'train'\u001b[0m\u001b[1;33m,\u001b[0m \u001b[0mcl\u001b[0m\u001b[1;33m)\u001b[0m\u001b[1;33m)\u001b[0m\u001b[1;33m:\u001b[0m\u001b[1;33m\u001b[0m\u001b[1;33m\u001b[0m\u001b[0m\n\u001b[0;32m     10\u001b[0m       \u001b[0mos\u001b[0m\u001b[1;33m.\u001b[0m\u001b[0mmakedirs\u001b[0m\u001b[1;33m(\u001b[0m\u001b[0mos\u001b[0m\u001b[1;33m.\u001b[0m\u001b[0mpath\u001b[0m\u001b[1;33m.\u001b[0m\u001b[0mjoin\u001b[0m\u001b[1;33m(\u001b[0m\u001b[0mbase_dir\u001b[0m\u001b[1;33m,\u001b[0m \u001b[1;34m'train'\u001b[0m\u001b[1;33m,\u001b[0m \u001b[0mcl\u001b[0m\u001b[1;33m)\u001b[0m\u001b[1;33m)\u001b[0m\u001b[1;33m\u001b[0m\u001b[1;33m\u001b[0m\u001b[0m\n\u001b[1;32m---> 11\u001b[1;33m     \u001b[0mshutil\u001b[0m\u001b[1;33m.\u001b[0m\u001b[0mmove\u001b[0m\u001b[1;33m(\u001b[0m\u001b[0mt\u001b[0m\u001b[1;33m,\u001b[0m \u001b[0mos\u001b[0m\u001b[1;33m.\u001b[0m\u001b[0mpath\u001b[0m\u001b[1;33m.\u001b[0m\u001b[0mjoin\u001b[0m\u001b[1;33m(\u001b[0m\u001b[0mbase_dir\u001b[0m\u001b[1;33m,\u001b[0m \u001b[1;34m'train'\u001b[0m\u001b[1;33m,\u001b[0m \u001b[0mcl\u001b[0m\u001b[1;33m)\u001b[0m\u001b[1;33m)\u001b[0m\u001b[1;33m\u001b[0m\u001b[1;33m\u001b[0m\u001b[0m\n\u001b[0m\u001b[0;32m     12\u001b[0m \u001b[1;33m\u001b[0m\u001b[0m\n\u001b[0;32m     13\u001b[0m   \u001b[1;32mfor\u001b[0m \u001b[0mv\u001b[0m \u001b[1;32min\u001b[0m \u001b[0mval\u001b[0m\u001b[1;33m:\u001b[0m\u001b[1;33m\u001b[0m\u001b[1;33m\u001b[0m\u001b[0m\n",
      "\u001b[1;32m~\\anaconda3\\envs\\tf-gpu\\lib\\shutil.py\u001b[0m in \u001b[0;36mmove\u001b[1;34m(src, dst, copy_function)\u001b[0m\n\u001b[0;32m    562\u001b[0m         \u001b[0mreal_dst\u001b[0m \u001b[1;33m=\u001b[0m \u001b[0mos\u001b[0m\u001b[1;33m.\u001b[0m\u001b[0mpath\u001b[0m\u001b[1;33m.\u001b[0m\u001b[0mjoin\u001b[0m\u001b[1;33m(\u001b[0m\u001b[0mdst\u001b[0m\u001b[1;33m,\u001b[0m \u001b[0m_basename\u001b[0m\u001b[1;33m(\u001b[0m\u001b[0msrc\u001b[0m\u001b[1;33m)\u001b[0m\u001b[1;33m)\u001b[0m\u001b[1;33m\u001b[0m\u001b[1;33m\u001b[0m\u001b[0m\n\u001b[0;32m    563\u001b[0m         \u001b[1;32mif\u001b[0m \u001b[0mos\u001b[0m\u001b[1;33m.\u001b[0m\u001b[0mpath\u001b[0m\u001b[1;33m.\u001b[0m\u001b[0mexists\u001b[0m\u001b[1;33m(\u001b[0m\u001b[0mreal_dst\u001b[0m\u001b[1;33m)\u001b[0m\u001b[1;33m:\u001b[0m\u001b[1;33m\u001b[0m\u001b[1;33m\u001b[0m\u001b[0m\n\u001b[1;32m--> 564\u001b[1;33m             \u001b[1;32mraise\u001b[0m \u001b[0mError\u001b[0m\u001b[1;33m(\u001b[0m\u001b[1;34m\"Destination path '%s' already exists\"\u001b[0m \u001b[1;33m%\u001b[0m \u001b[0mreal_dst\u001b[0m\u001b[1;33m)\u001b[0m\u001b[1;33m\u001b[0m\u001b[1;33m\u001b[0m\u001b[0m\n\u001b[0m\u001b[0;32m    565\u001b[0m     \u001b[1;32mtry\u001b[0m\u001b[1;33m:\u001b[0m\u001b[1;33m\u001b[0m\u001b[1;33m\u001b[0m\u001b[0m\n\u001b[0;32m    566\u001b[0m         \u001b[0mos\u001b[0m\u001b[1;33m.\u001b[0m\u001b[0mrename\u001b[0m\u001b[1;33m(\u001b[0m\u001b[0msrc\u001b[0m\u001b[1;33m,\u001b[0m \u001b[0mreal_dst\u001b[0m\u001b[1;33m)\u001b[0m\u001b[1;33m\u001b[0m\u001b[1;33m\u001b[0m\u001b[0m\n",
      "\u001b[1;31mError\u001b[0m: Destination path 'C:\\Users\\nargel\\.keras\\datasets\\flower_photos\\train\\roses\\10090824183_d02c613f10_m.jpg' already exists"
     ]
    }
   ],
   "source": [
    "#crear las carpetas de entrenamiento y test\n",
    "for cl in classes:\n",
    "  img_path = os.path.join(base_dir, cl)\n",
    "  images = glob.glob(img_path + '/*.jpg')\n",
    "  print(\"{}: {} Images\".format(cl, len(images)))\n",
    "  train, val = images[:round(len(images)*0.8)], images[round(len(images)*0.8):]\n",
    "\n",
    "  for t in train:\n",
    "    if not os.path.exists(os.path.join(base_dir, 'train', cl)):\n",
    "      os.makedirs(os.path.join(base_dir, 'train', cl))\n",
    "    shutil.move(t, os.path.join(base_dir, 'train', cl))\n",
    "\n",
    "  for v in val:\n",
    "    if not os.path.exists(os.path.join(base_dir, 'val', cl)):\n",
    "      os.makedirs(os.path.join(base_dir, 'val', cl))\n",
    "    shutil.move(v, os.path.join(base_dir, 'val', cl))\n",
    "    \n",
    "    \n",
    "\n"
   ]
  },
  {
   "cell_type": "code",
   "execution_count": 5,
   "metadata": {},
   "outputs": [],
   "source": [
    "#el carpeteo\n",
    "\n",
    "train_dir = os.path.join(base_dir, 'train')\n",
    "val_dir = os.path.join(base_dir, 'val')\n",
    "\n",
    "\n",
    "train_daisy_dir = os.path.join(train_dir, 'daisy') \n",
    "train_dandelion_dir = os.path.join(train_dir, 'dandelion')\n",
    "train_roses_dir = os.path.join(train_dir, 'roses') \n",
    "train_sunflowers_dir = os.path.join(train_dir, 'sunflowers')  \n",
    "train_tulips_dir = os.path.join(train_dir, 'tulips') \n",
    "\n",
    "\n",
    "val_daisy_dir = os.path.join(val_dir, 'daisy') \n",
    "val_dandelion_dir = os.path.join(val_dir, 'dandelion')\n",
    "val_roses_dir = os.path.join(val_dir, 'roses') \n",
    "val_sunflowers_dir = os.path.join(val_dir, 'sunflowers')  \n",
    "val_tulips_dir = os.path.join(val_dir, 'tulips') \n",
    "\n",
    "\n",
    "#numeros\n",
    "num_daisy_tr = len(os.listdir(train_daisy_dir))\n",
    "num_dandelion_tr = len(os.listdir(train_dandelion_dir))\n",
    "num_roses_tr = len(os.listdir(train_roses_dir))\n",
    "num_sunflowers_tr = len(os.listdir(train_sunflowers_dir))\n",
    "num_tulips_tr = len(os.listdir(train_tulips_dir))\n",
    "\n",
    "num_daisy_v = len(os.listdir(val_daisy_dir))\n",
    "num_dandelion_v = len(os.listdir(val_dandelion_dir))\n",
    "num_roses_v = len(os.listdir(val_roses_dir))\n",
    "num_sunflowers_v = len(os.listdir(val_sunflowers_dir))\n",
    "num_tulips_v = len(os.listdir(val_tulips_dir))\n",
    "\n",
    "\n",
    "total_train = num_daisy_tr + num_dandelion_tr + num_roses_tr + num_sunflowers_tr + num_tulips_tr\n",
    "total_val = num_daisy_v + num_dandelion_v + num_roses_v + num_sunflowers_v + num_tulips_v\n",
    " \n"
   ]
  },
  {
   "cell_type": "code",
   "execution_count": 6,
   "metadata": {},
   "outputs": [
    {
     "name": "stdout",
     "output_type": "stream",
     "text": [
      "Found 2935 images belonging to 5 classes.\n"
     ]
    }
   ],
   "source": [
    "#augmentación para set de entrenamiento \n",
    "image_gen_train = ImageDataGenerator(\n",
    "      rescale=1./255,\n",
    "      rotation_range=40,\n",
    "      width_shift_range=0.2,\n",
    "      height_shift_range=0.2,\n",
    "      shear_range=0.2,\n",
    "      zoom_range=0.2,\n",
    "      horizontal_flip=True,\n",
    "      fill_mode='nearest')\n",
    "\n",
    "train_data_gen = image_gen_train.flow_from_directory(batch_size=100,\n",
    "                                                     directory=train_dir,\n",
    "                                                     shuffle=True,\n",
    "                                                     target_size=(299,299),\n",
    "                                                     class_mode='sparse')\n"
   ]
  },
  {
   "cell_type": "code",
   "execution_count": 7,
   "metadata": {},
   "outputs": [
    {
     "name": "stdout",
     "output_type": "stream",
     "text": [
      "Found 735 images belonging to 5 classes.\n"
     ]
    }
   ],
   "source": [
    "image_gen_val = ImageDataGenerator(rescale=1./255)\n",
    "\n",
    "val_data_gen = image_gen_val.flow_from_directory(batch_size=100,\n",
    "                                                 directory=val_dir,\n",
    "                                                 target_size=(299, 299),\n",
    "                                                 class_mode='sparse')"
   ]
  },
  {
   "cell_type": "code",
   "execution_count": 8,
   "metadata": {},
   "outputs": [],
   "source": [
    "def plotImages(images_arr):\n",
    "    fig, axes = plt.subplots(1, 5, figsize=(20,20))\n",
    "    axes = axes.flatten()\n",
    "    for img, ax in zip( images_arr, axes):\n",
    "        ax.imshow(img)\n",
    "    plt.tight_layout()\n",
    "    plt.show()\n"
   ]
  },
  {
   "cell_type": "code",
   "execution_count": 9,
   "metadata": {},
   "outputs": [
    {
     "name": "stdout",
     "output_type": "stream",
     "text": [
      "Model: \"sequential\"\n",
      "_________________________________________________________________\n",
      "Layer (type)                 Output Shape              Param #   \n",
      "=================================================================\n",
      "conv2d (Conv2D)              (None, 297, 297, 16)      448       \n",
      "_________________________________________________________________\n",
      "max_pooling2d (MaxPooling2D) (None, 148, 148, 16)      0         \n",
      "_________________________________________________________________\n",
      "conv2d_1 (Conv2D)            (None, 146, 146, 64)      9280      \n",
      "_________________________________________________________________\n",
      "max_pooling2d_1 (MaxPooling2 (None, 73, 73, 64)        0         \n",
      "_________________________________________________________________\n",
      "conv2d_2 (Conv2D)            (None, 71, 71, 128)       73856     \n",
      "_________________________________________________________________\n",
      "max_pooling2d_2 (MaxPooling2 (None, 35, 35, 128)       0         \n",
      "_________________________________________________________________\n",
      "conv2d_3 (Conv2D)            (None, 33, 33, 128)       147584    \n",
      "_________________________________________________________________\n",
      "max_pooling2d_3 (MaxPooling2 (None, 16, 16, 128)       0         \n",
      "_________________________________________________________________\n",
      "flatten (Flatten)            (None, 32768)             0         \n",
      "_________________________________________________________________\n",
      "dropout (Dropout)            (None, 32768)             0         \n",
      "_________________________________________________________________\n",
      "dense (Dense)                (None, 128)               4194432   \n",
      "_________________________________________________________________\n",
      "dense_1 (Dense)              (None, 5)                 645       \n",
      "=================================================================\n",
      "Total params: 4,426,245\n",
      "Trainable params: 4,426,245\n",
      "Non-trainable params: 0\n",
      "_________________________________________________________________\n"
     ]
    }
   ],
   "source": [
    "with tf.device('/GPU:0'):\n",
    "    model = tf.keras.models.Sequential([\n",
    "        tf.keras.layers.Conv2D(16, (3,3), activation='relu', input_shape=(299, 299, 3)),\n",
    "        tf.keras.layers.MaxPooling2D(2, 2),\n",
    "\n",
    "        tf.keras.layers.Conv2D(64, (3,3), activation='relu'),\n",
    "        tf.keras.layers.MaxPooling2D(2,2),\n",
    "\n",
    "        tf.keras.layers.Conv2D(128, (3,3), activation='relu'),\n",
    "        tf.keras.layers.MaxPooling2D(2,2),\n",
    "\n",
    "        tf.keras.layers.Conv2D(128, (3,3), activation='relu'),\n",
    "        tf.keras.layers.MaxPooling2D(2,2),\n",
    "\n",
    "        tf.keras.layers.Flatten(),\n",
    "\n",
    "        tf.keras.layers.Dropout(0.2),\n",
    "        tf.keras.layers.Dense(128, activation='relu'),\n",
    "        tf.keras.layers.Dense(5,activation='softmax')\n",
    "    ])\n",
    "\n",
    "    model.compile(optimizer='adam',\n",
    "                  loss=tf.keras.losses.SparseCategoricalCrossentropy(from_logits=True),\n",
    "                  metrics=['accuracy'])\n",
    "\n",
    "    model.summary()"
   ]
  },
  {
   "cell_type": "code",
   "execution_count": 10,
   "metadata": {},
   "outputs": [
    {
     "name": "stdout",
     "output_type": "stream",
     "text": [
      "Train for 30 steps, validate for 8 steps\n",
      "Epoch 1/50\n",
      "30/30 [==============================] - 101s 3s/step - loss: 1.5189 - accuracy: 0.3407 - val_loss: 1.3773 - val_accuracy: 0.5211\n",
      "Epoch 2/50\n",
      "30/30 [==============================] - 59s 2s/step - loss: 1.3764 - accuracy: 0.5257 - val_loss: 1.3494 - val_accuracy: 0.5429\n",
      "Epoch 3/50\n",
      "30/30 [==============================] - 57s 2s/step - loss: 1.3591 - accuracy: 0.5462 - val_loss: 1.3726 - val_accuracy: 0.5129\n",
      "Epoch 4/50\n",
      "30/30 [==============================] - 57s 2s/step - loss: 1.3689 - accuracy: 0.5295 - val_loss: 1.3130 - val_accuracy: 0.5646\n",
      "Epoch 5/50\n",
      "30/30 [==============================] - 58s 2s/step - loss: 1.3347 - accuracy: 0.5666 - val_loss: 1.3118 - val_accuracy: 0.5823\n",
      "Epoch 6/50\n",
      "30/30 [==============================] - 58s 2s/step - loss: 1.3390 - accuracy: 0.5622 - val_loss: 1.2798 - val_accuracy: 0.6095\n",
      "Epoch 7/50\n",
      "30/30 [==============================] - 58s 2s/step - loss: 1.3295 - accuracy: 0.5721 - val_loss: 1.3172 - val_accuracy: 0.5728\n",
      "Epoch 8/50\n",
      "30/30 [==============================] - 57s 2s/step - loss: 1.3553 - accuracy: 0.5451 - val_loss: 1.3743 - val_accuracy: 0.5143\n",
      "Epoch 9/50\n",
      "30/30 [==============================] - 59s 2s/step - loss: 1.3681 - accuracy: 0.5298 - val_loss: 1.3469 - val_accuracy: 0.5401\n",
      "Epoch 10/50\n",
      "30/30 [==============================] - 64s 2s/step - loss: 1.3409 - accuracy: 0.5591 - val_loss: 1.2837 - val_accuracy: 0.6054\n",
      "Epoch 11/50\n",
      "30/30 [==============================] - 59s 2s/step - loss: 1.3187 - accuracy: 0.5796 - val_loss: 1.3194 - val_accuracy: 0.5728\n",
      "Epoch 12/50\n",
      "30/30 [==============================] - 60s 2s/step - loss: 1.3476 - accuracy: 0.5489 - val_loss: 1.2600 - val_accuracy: 0.6340\n",
      "Epoch 13/50\n",
      "30/30 [==============================] - 60s 2s/step - loss: 1.3138 - accuracy: 0.5857 - val_loss: 1.2525 - val_accuracy: 0.6381\n",
      "Epoch 14/50\n",
      "30/30 [==============================] - 59s 2s/step - loss: 1.2997 - accuracy: 0.6017 - val_loss: 1.2413 - val_accuracy: 0.6558\n",
      "Epoch 15/50\n",
      "30/30 [==============================] - 58s 2s/step - loss: 1.2952 - accuracy: 0.6048 - val_loss: 1.2585 - val_accuracy: 0.6272\n",
      "Epoch 16/50\n",
      "30/30 [==============================] - 59s 2s/step - loss: 1.2852 - accuracy: 0.6157 - val_loss: 1.2483 - val_accuracy: 0.6422\n",
      "Epoch 17/50\n",
      "30/30 [==============================] - 58s 2s/step - loss: 1.2976 - accuracy: 0.6010 - val_loss: 1.2695 - val_accuracy: 0.6231\n",
      "Epoch 18/50\n",
      "30/30 [==============================] - 58s 2s/step - loss: 1.2951 - accuracy: 0.6082 - val_loss: 1.2444 - val_accuracy: 0.6463\n",
      "Epoch 19/50\n",
      "30/30 [==============================] - 59s 2s/step - loss: 1.2893 - accuracy: 0.6119 - val_loss: 1.2293 - val_accuracy: 0.6585\n",
      "Epoch 20/50\n",
      "30/30 [==============================] - 60s 2s/step - loss: 1.2866 - accuracy: 0.6150 - val_loss: 1.2813 - val_accuracy: 0.6068\n",
      "Epoch 21/50\n",
      "30/30 [==============================] - 58s 2s/step - loss: 1.2952 - accuracy: 0.6048 - val_loss: 1.2548 - val_accuracy: 0.6381\n",
      "Epoch 22/50\n",
      "30/30 [==============================] - 60s 2s/step - loss: 1.2840 - accuracy: 0.6140 - val_loss: 1.2604 - val_accuracy: 0.6286\n",
      "Epoch 23/50\n",
      "30/30 [==============================] - 60s 2s/step - loss: 1.2670 - accuracy: 0.6324 - val_loss: 1.2270 - val_accuracy: 0.6667\n",
      "Epoch 24/50\n",
      "30/30 [==============================] - 61s 2s/step - loss: 1.2705 - accuracy: 0.6286 - val_loss: 1.2129 - val_accuracy: 0.6707\n",
      "Epoch 25/50\n",
      "30/30 [==============================] - 63s 2s/step - loss: 1.2537 - accuracy: 0.6409 - val_loss: 1.2112 - val_accuracy: 0.6871\n",
      "Epoch 26/50\n",
      "30/30 [==============================] - 63s 2s/step - loss: 1.2384 - accuracy: 0.6613 - val_loss: 1.1845 - val_accuracy: 0.7061\n",
      "Epoch 27/50\n",
      "30/30 [==============================] - 59s 2s/step - loss: 1.2375 - accuracy: 0.6630 - val_loss: 1.1890 - val_accuracy: 0.7034\n",
      "Epoch 28/50\n",
      "30/30 [==============================] - 58s 2s/step - loss: 1.2315 - accuracy: 0.6664 - val_loss: 1.1768 - val_accuracy: 0.7156\n",
      "Epoch 29/50\n",
      "30/30 [==============================] - 61s 2s/step - loss: 1.2297 - accuracy: 0.6716 - val_loss: 1.2081 - val_accuracy: 0.6844\n",
      "Epoch 30/50\n",
      "30/30 [==============================] - 60s 2s/step - loss: 1.2271 - accuracy: 0.6716 - val_loss: 1.1750 - val_accuracy: 0.7238\n",
      "Epoch 31/50\n",
      "30/30 [==============================] - 59s 2s/step - loss: 1.2370 - accuracy: 0.6586 - val_loss: 1.2341 - val_accuracy: 0.6531\n",
      "Epoch 32/50\n",
      "30/30 [==============================] - 58s 2s/step - loss: 1.2498 - accuracy: 0.6504 - val_loss: 1.1879 - val_accuracy: 0.6980\n",
      "Epoch 33/50\n",
      "30/30 [==============================] - 63s 2s/step - loss: 1.2245 - accuracy: 0.6780 - val_loss: 1.1892 - val_accuracy: 0.7061\n",
      "Epoch 34/50\n",
      "30/30 [==============================] - 63s 2s/step - loss: 1.2073 - accuracy: 0.6872 - val_loss: 1.1753 - val_accuracy: 0.7116\n",
      "Epoch 35/50\n",
      "30/30 [==============================] - 63s 2s/step - loss: 1.2108 - accuracy: 0.6855 - val_loss: 1.1976 - val_accuracy: 0.6966\n",
      "Epoch 36/50\n",
      "30/30 [==============================] - 63s 2s/step - loss: 1.2086 - accuracy: 0.6927 - val_loss: 1.1835 - val_accuracy: 0.7061\n",
      "Epoch 37/50\n",
      "30/30 [==============================] - 62s 2s/step - loss: 1.1912 - accuracy: 0.7063 - val_loss: 1.1863 - val_accuracy: 0.7075\n",
      "Epoch 38/50\n",
      "30/30 [==============================] - 62s 2s/step - loss: 1.2094 - accuracy: 0.6899 - val_loss: 1.1552 - val_accuracy: 0.7429\n",
      "Epoch 39/50\n",
      "30/30 [==============================] - 62s 2s/step - loss: 1.1984 - accuracy: 0.7005 - val_loss: 1.1883 - val_accuracy: 0.7088\n",
      "Epoch 40/50\n",
      "30/30 [==============================] - 63s 2s/step - loss: 1.2107 - accuracy: 0.6876 - val_loss: 1.1846 - val_accuracy: 0.7088\n",
      "Epoch 41/50\n",
      "30/30 [==============================] - 62s 2s/step - loss: 1.1854 - accuracy: 0.7162 - val_loss: 1.2219 - val_accuracy: 0.6680\n",
      "Epoch 42/50\n",
      "30/30 [==============================] - 61s 2s/step - loss: 1.2027 - accuracy: 0.6961 - val_loss: 1.1945 - val_accuracy: 0.7020\n",
      "Epoch 43/50\n",
      "30/30 [==============================] - 62s 2s/step - loss: 1.2014 - accuracy: 0.6985 - val_loss: 1.1931 - val_accuracy: 0.6980\n",
      "Epoch 44/50\n",
      "30/30 [==============================] - 61s 2s/step - loss: 1.1996 - accuracy: 0.6988 - val_loss: 1.1861 - val_accuracy: 0.7048\n",
      "Epoch 45/50\n",
      "30/30 [==============================] - 59s 2s/step - loss: 1.1953 - accuracy: 0.7036 - val_loss: 1.1649 - val_accuracy: 0.7320\n",
      "Epoch 46/50\n",
      "30/30 [==============================] - 58s 2s/step - loss: 1.1803 - accuracy: 0.7220 - val_loss: 1.1704 - val_accuracy: 0.7238\n",
      "Epoch 47/50\n",
      "30/30 [==============================] - 60s 2s/step - loss: 1.1801 - accuracy: 0.7175 - val_loss: 1.1650 - val_accuracy: 0.7320\n",
      "Epoch 48/50\n",
      "30/30 [==============================] - 58s 2s/step - loss: 1.1880 - accuracy: 0.7141 - val_loss: 1.1866 - val_accuracy: 0.7034\n",
      "Epoch 49/50\n",
      "30/30 [==============================] - 57s 2s/step - loss: 1.2226 - accuracy: 0.6787 - val_loss: 1.1741 - val_accuracy: 0.7197\n",
      "Epoch 50/50\n",
      "30/30 [==============================] - 57s 2s/step - loss: 1.2064 - accuracy: 0.6937 - val_loss: 1.1877 - val_accuracy: 0.7075\n"
     ]
    }
   ],
   "source": [
    "with tf.device('/GPU:0'):\n",
    "    epochs=50\n",
    "    history = model.fit_generator(\n",
    "        train_data_gen,\n",
    "        steps_per_epoch=int(np.ceil(total_train / float(100))),\n",
    "        epochs=epochs,\n",
    "        validation_data=val_data_gen,\n",
    "        validation_steps=int(np.ceil(total_val / float(100)))\n",
    "    )"
   ]
  },
  {
   "cell_type": "code",
   "execution_count": 11,
   "metadata": {},
   "outputs": [
    {
     "data": {
      "image/png": "[encoded data removed]",
      "text/plain": [
       "<Figure size 576x576 with 2 Axes>"
      ]
     },
     "metadata": {
      "needs_background": "light"
     },
     "output_type": "display_data"
    }
   ],
   "source": [
    "acc = history.history['accuracy']\n",
    "val_acc = history.history['val_accuracy']\n",
    "\n",
    "loss = history.history['loss']\n",
    "val_loss = history.history['val_loss']\n",
    "\n",
    "epochs_range = range(epochs)\n",
    "\n",
    "plt.figure(figsize=(8, 8))\n",
    "plt.subplot(1, 2, 1)\n",
    "plt.plot(epochs_range, acc, label='Training Accuracy')\n",
    "plt.plot(epochs_range, val_acc, label='Validation Accuracy')\n",
    "plt.legend(loc='lower right')\n",
    "plt.title('Training and Validation Accuracy')\n",
    "\n",
    "plt.subplot(1, 2, 2)\n",
    "plt.plot(epochs_range, loss, label='Training Loss')\n",
    "plt.plot(epochs_range, val_loss, label='Validation Loss')\n",
    "plt.legend(loc='upper right')\n",
    "plt.title('Training and Validation Loss')\n",
    "plt.show()"
   ]
  },
  {
   "cell_type": "code",
   "execution_count": null,
   "metadata": {},
   "outputs": [],
   "source": []
  }
 ],
 "metadata": {
  "kernelspec": {
   "display_name": "Python 3",
   "language": "python",
   "name": "python3"
  },
  "language_info": {
   "codemirror_mode": {
    "name": "ipython",
    "version": 3
   },
   "file_extension": ".py",
   "mimetype": "text/x-python",
   "name": "python",
   "nbconvert_exporter": "python",
   "pygments_lexer": "ipython3",
   "version": "3.7.7"
  }
 },
 "nbformat": 4,
 "nbformat_minor": 4
}
