{
 "cells": [
  {
   "cell_type": "code",
   "execution_count": 1,
   "metadata": {},
   "outputs": [],
   "source": [
    "import pandas as pd\n",
    "import os\n",
    "import numpy as np\n",
    "from PIL import Image\n",
    "import shutil\n",
    "from pylab import array, arange, uint8\n",
    "import cv2"
   ]
  },
  {
   "cell_type": "code",
   "execution_count": 2,
   "metadata": {},
   "outputs": [],
   "source": [
    "def eliminamalas(csv , origen):\n",
    "    Labels = pd.read_csv(csv)\n",
    "    listing = os.listdir(origen)\n",
    "\n",
    "    for file in listing:\n",
    "        \n",
    "        base = os.path.basename(origen + file)\n",
    "        fileName = os.path.splitext(base)[0]\n",
    "        \n",
    "        label=Labels.loc[Labels.image_name==fileName, 'gradability'].values[0]\n",
    "        if(label==0):\n",
    "            os.remove(origen + file) \n",
    "            \n",
    "      "
   ]
  },
  {
   "cell_type": "code",
   "execution_count": 3,
   "metadata": {},
   "outputs": [],
   "source": [
    "eliminamalas(\"malas.csv\",\"test_2cat//0//\")\n",
    "eliminamalas(\"malas.csv\",\"test_2cat//1//\")"
   ]
  },
  {
   "cell_type": "code",
   "execution_count": 4,
   "metadata": {},
   "outputs": [],
   "source": [
    "eliminamalas(\"malas.csv\",\"val1_2cat//0//\")\n",
    "eliminamalas(\"malas.csv\",\"val1_2cat//1//\")"
   ]
  },
  {
   "cell_type": "code",
   "execution_count": 5,
   "metadata": {},
   "outputs": [],
   "source": [
    "eliminamalas(\"malas.csv\",\"test1_2cat//0//\")\n",
    "eliminamalas(\"malas.csv\",\"test1_2cat//1//\")"
   ]
  }
 ],
 "metadata": {
  "kernelspec": {
   "display_name": "Python 3",
   "language": "python",
   "name": "python3"
  },
  "language_info": {
   "codemirror_mode": {
    "name": "ipython",
    "version": 3
   },
   "file_extension": ".py",
   "mimetype": "text/x-python",
   "name": "python",
   "nbconvert_exporter": "python",
   "pygments_lexer": "ipython3",
   "version": "3.7.7"
  }
 },
 "nbformat": 4,
 "nbformat_minor": 4
}
