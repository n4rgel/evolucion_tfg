{
 "cells": [
  {
   "cell_type": "markdown",
   "metadata": {},
   "source": [
    "Informe de resultados del modelo entrenado con los datos de entrada de 450x450px, siendo la clase positiva las imágenes con retinopatía(2+3+4) y la clase negativa las que no tienen retinopatía, o tienen una retinopatía leve(0+1)\n"
   ]
  },
  {
   "cell_type": "code",
   "execution_count": 1,
   "metadata": {},
   "outputs": [
    {
     "name": "stdout",
     "output_type": "stream",
     "text": [
      "Num GPUS avadible: 1\n"
     ]
    }
   ],
   "source": [
    "import tensorflow as tf\n",
    "from tensorflow.keras.preprocessing.image import ImageDataGenerator\n",
    "\n",
    "import os\n",
    "import numpy as np\n",
    "import matplotlib.pyplot as plt\n",
    "import glob\n",
    "import shutil\n",
    "import logging\n",
    "\n",
    "import random\n",
    "from random import shuffle\n",
    "\n",
    "import imgaug as ia\n",
    "import imgaug.augmenters as iaa\n",
    "\n",
    "logger = tf.get_logger()\n",
    "logger.setLevel(logging.ERROR)\n",
    "\n",
    "\n",
    "print(\"Num GPUS avadible:\",len(tf.config.experimental.list_physical_devices('GPU')))"
   ]
  },
  {
   "cell_type": "code",
   "execution_count": 2,
   "metadata": {},
   "outputs": [],
   "source": [
    "val_labels=np.load('matrices_resultados//validacion.npy')\n",
    "test_labels=np.load('matrices_resultados//testeo.npy')\n",
    "\n"
   ]
  },
  {
   "cell_type": "code",
   "execution_count": 3,
   "metadata": {},
   "outputs": [],
   "source": [
    "\n",
    "\n",
    "y_pred1 =  np.load('matrices_resultados//validacion450x450_2.npy')\n",
    "\n",
    "y_pred2 =  np.load('matrices_resultados//testeo450x450_2.npy')\n",
    "\n",
    "\n",
    "\n"
   ]
  },
  {
   "cell_type": "code",
   "execution_count": 4,
   "metadata": {},
   "outputs": [],
   "source": [
    "from sklearn.metrics import roc_curve,roc_auc_score, confusion_matrix\n",
    "\n",
    "fpr1 , tpr1 , thresholds1 = roc_curve ( val_labels , 1-y_pred1,pos_label=0)\n",
    "\n",
    "fpr2 , tpr2 , thresholds2 = roc_curve ( test_labels , 1-y_pred2,pos_label=0)\n",
    "\n"
   ]
  },
  {
   "cell_type": "code",
   "execution_count": 5,
   "metadata": {},
   "outputs": [],
   "source": [
    "def plot_roc_curve(fpr,tpr): \n",
    "  plt.plot(1-tpr,1-fpr,) \n",
    "  plt.axis([0,1,0,1]) \n",
    "  plt.xlabel('1-sensibilidad') \n",
    "  plt.ylabel('Especificidad') \n",
    "  plt.show()    \n",
    "  "
   ]
  },
  {
   "cell_type": "code",
   "execution_count": 6,
   "metadata": {},
   "outputs": [],
   "source": [
    "def tpr_to_umbrales(tpr,fpr,thresholds,lista):\n",
    "    umbrales=[]\n",
    "    fprumb=[]\n",
    "    tprumb=[]\n",
    "    \n",
    "    for i in lista:\n",
    "        umbrales.append(thresholds[(np.where(tpr>=i))[0][0]])\n",
    "        fprumb.append(fpr[(np.where(tpr>=i))[0][0]])\n",
    "        tprumb.append(tpr[(np.where(tpr>=i))[0][0]])\n",
    "    return (umbrales, fprumb, tprumb)"
   ]
  },
  {
   "cell_type": "code",
   "execution_count": 7,
   "metadata": {},
   "outputs": [],
   "source": [
    "def umbral_mejor(tpr,fpr,thresholds):\n",
    "    distancias=(1-tpr)+fpr\n",
    "    \n",
    "    umbral=thresholds[(np.where(distancias==min(distancias)))[0][0]]\n",
    "    tpr1=tpr[(np.where(distancias==min(distancias)))[0][0]]\n",
    "    fpr1=fpr[(np.where(distancias==min(distancias)))[0][0]]\n",
    "    \n",
    "    return (umbral,tpr1,fpr1)"
   ]
  },
  {
   "cell_type": "markdown",
   "metadata": {},
   "source": [
    "Evaluación Validación\n"
   ]
  },
  {
   "cell_type": "code",
   "execution_count": 8,
   "metadata": {},
   "outputs": [
    {
     "data": {
      "text/plain": [
       "0.907390065540578"
      ]
     },
     "execution_count": 8,
     "metadata": {},
     "output_type": "execute_result"
    }
   ],
   "source": [
    "roc_auc_score(val_labels, y_pred1)"
   ]
  },
  {
   "cell_type": "code",
   "execution_count": 9,
   "metadata": {},
   "outputs": [
    {
     "data": {
      "image/png": "[encoded data removed]",
      "text/plain": [
       "<Figure size 432x288 with 1 Axes>"
      ]
     },
     "metadata": {
      "needs_background": "light"
     },
     "output_type": "display_data"
    }
   ],
   "source": [
    "plot_roc_curve (fpr1,tpr1)"
   ]
  },
  {
   "cell_type": "code",
   "execution_count": 10,
   "metadata": {},
   "outputs": [
    {
     "data": {
      "text/plain": [
       "(1619, 301, 5143, 583)"
      ]
     },
     "execution_count": 10,
     "metadata": {},
     "output_type": "execute_result"
    }
   ],
   "source": [
    "tp, fn, fp, tn = confusion_matrix(val_labels, y_pred1.round()).ravel()\n",
    "(tp,fp,tn,fn)\n",
    "\n"
   ]
  },
  {
   "cell_type": "code",
   "execution_count": 11,
   "metadata": {},
   "outputs": [
    {
     "name": "stdout",
     "output_type": "stream",
     "text": [
      "sensibilidad objetivo:0.65 sensibilidad:0.6503178928247049 ->especificidad:0.9752020573108009 ratio de falsos negativos:0.34968210717529513 ratio de falsos positivos:0.024797942689199118 con umbral: 0.9981803\n",
      "\n",
      "\n",
      "sensibilidad objetivo:0.7 sensibilidad:0.701180744777475 ->especificidad:0.9617927994121969 ratio de falsos negativos:0.29881925522252495 ratio de falsos positivos:0.03820720058780309 con umbral: 0.9311952\n",
      "\n",
      "\n",
      "sensibilidad objetivo:0.75 sensibilidad:0.7502270663033606 ->especificidad:0.9327700220426157 ratio de falsos negativos:0.24977293369663944 ratio de falsos positivos:0.06722997795738428 con umbral: 0.21374166\n",
      "\n",
      "\n",
      "sensibilidad objetivo:0.8 sensibilidad:0.8001816530426885 ->especificidad:0.891807494489346 ratio de falsos negativos:0.1998183469573115 ratio de falsos positivos:0.10819250551065393 con umbral: 0.009452164\n",
      "\n",
      "\n",
      "sensibilidad objetivo:0.85 sensibilidad:0.8505903723887375 ->especificidad:0.8085966201322556 ratio de falsos negativos:0.14940962761126253 ratio de falsos positivos:0.1914033798677443 con umbral: 0.00020235777\n",
      "\n",
      "\n",
      "sensibilidad objetivo:0.9 sensibilidad:0.9000908265213442 ->especificidad:0.6664217487141808 ratio de falsos negativos:0.0999091734786558 ratio de falsos positivos:0.33357825128581925 con umbral: 5.6028366e-06\n",
      "\n",
      "\n",
      "sensibilidad objetivo:0.95 sensibilidad:0.9527702089009991 ->especificidad:0.4204628949301984 ratio de falsos negativos:0.04722979109900094 ratio de falsos positivos:0.5795371050698016 con umbral: 1.1920929e-07\n",
      "\n",
      "\n",
      "sensibilidad objetivo:0.96 sensibilidad:1.0 ->especificidad:0.0 ratio de falsos negativos:0.0 ratio de falsos positivos:1.0 con umbral: 0.0\n",
      "\n",
      "\n",
      "sensibilidad objetivo:0.97 sensibilidad:1.0 ->especificidad:0.0 ratio de falsos negativos:0.0 ratio de falsos positivos:1.0 con umbral: 0.0\n",
      "\n",
      "\n",
      "sensibilidad objetivo:0.98 sensibilidad:1.0 ->especificidad:0.0 ratio de falsos negativos:0.0 ratio de falsos positivos:1.0 con umbral: 0.0\n",
      "\n",
      "\n"
     ]
    }
   ],
   "source": [
    "lista=[0.65,0.70,0.75,0.80,0.85,0.90,0.95,0.96,0.97,0.98]\n",
    "  \n",
    "\n",
    "umbrales , fprumb , tprumb =tpr_to_umbrales(tpr1,fpr1,thresholds1,lista)\n",
    "\n",
    "for idx,i in enumerate(lista):\n",
    "    print(\"sensibilidad objetivo:\"+str(i)+\" sensibilidad:\"+str(tprumb[idx])+\" ->especificidad:\"+str(1-fprumb[idx])+\" ratio de falsos negativos:\"+str(1-tprumb[idx])+\" ratio de falsos positivos:\"+str(fprumb[idx])+\" con umbral: \"+str(umbrales[idx])+\"\\n\\n\")"
   ]
  },
  {
   "cell_type": "code",
   "execution_count": 12,
   "metadata": {},
   "outputs": [
    {
     "name": "stdout",
     "output_type": "stream",
     "text": [
      "tpr:0.798819255222525->fpr: 0.10617193240264511 con umbral: 0.010507941\n"
     ]
    }
   ],
   "source": [
    "umbral_1,tpr_1,fpr_1=umbral_mejor(tpr1,fpr1,thresholds1)\n",
    "\n",
    "print(\"tpr:\"+str(tpr_1)+\"->fpr: \"+str(fpr_1)+\" con umbral: \"+str(umbral_1))"
   ]
  },
  {
   "cell_type": "markdown",
   "metadata": {},
   "source": [
    "Evaluación test \n"
   ]
  },
  {
   "cell_type": "code",
   "execution_count": 13,
   "metadata": {},
   "outputs": [
    {
     "data": {
      "text/plain": [
       "0.9145593308903325"
      ]
     },
     "execution_count": 13,
     "metadata": {},
     "output_type": "execute_result"
    }
   ],
   "source": [
    "roc_auc_score(test_labels, y_pred2)"
   ]
  },
  {
   "cell_type": "code",
   "execution_count": 14,
   "metadata": {},
   "outputs": [
    {
     "data": {
      "image/png": "[encoded data removed]",
      "text/plain": [
       "<Figure size 432x288 with 1 Axes>"
      ]
     },
     "metadata": {
      "needs_background": "light"
     },
     "output_type": "display_data"
    }
   ],
   "source": [
    "plot_roc_curve (fpr2,tpr2)"
   ]
  },
  {
   "cell_type": "code",
   "execution_count": 15,
   "metadata": {},
   "outputs": [
    {
     "data": {
      "text/plain": [
       "(1663, 576, 9557, 603)"
      ]
     },
     "execution_count": 15,
     "metadata": {},
     "output_type": "execute_result"
    }
   ],
   "source": [
    "tp, fn, fp, tn = confusion_matrix(test_labels, y_pred2.round()).ravel()\n",
    "(tp,fp,tn,fn)\n",
    "\n"
   ]
  },
  {
   "cell_type": "code",
   "execution_count": 16,
   "metadata": {},
   "outputs": [
    {
     "name": "stdout",
     "output_type": "stream",
     "text": [
      "sensibilidad objetivo:0.65 sensibilidad:0.6500441306266549 ->especificidad:0.9754268232507648 ratio de falsos negativos:0.3499558693733451 ratio de falsos positivos:0.024573176749235173 con umbral: 0.99885637\n",
      "\n",
      "\n",
      "sensibilidad objetivo:0.7 sensibilidad:0.7003530450132391 ->especificidad:0.9587486430474687 ratio de falsos negativos:0.29964695498676086 ratio de falsos positivos:0.041251356952531334 con umbral: 0.9177052\n",
      "\n",
      "\n",
      "sensibilidad objetivo:0.75 sensibilidad:0.7502206531332745 ->especificidad:0.9349649659528274 ratio de falsos negativos:0.24977934686672554 ratio de falsos positivos:0.0650350340471726 con umbral: 0.26775932\n",
      "\n",
      "\n",
      "sensibilidad objetivo:0.8 sensibilidad:0.8000882612533098 ->especificidad:0.8994374814961018 ratio de falsos negativos:0.19991173874669022 ratio de falsos positivos:0.10056251850389815 con umbral: 0.012366772\n",
      "\n",
      "\n",
      "sensibilidad objetivo:0.85 sensibilidad:0.850397175639894 ->especificidad:0.827691700384881 ratio de falsos negativos:0.14960282436010597 ratio de falsos positivos:0.17230829961511893 con umbral: 0.000402987\n",
      "\n",
      "\n",
      "sensibilidad objetivo:0.9 sensibilidad:0.9002647837599294 ->especificidad:0.70679956577519 ratio de falsos negativos:0.09973521624007065 ratio de falsos positivos:0.29320043422481 con umbral: 1.0371208e-05\n",
      "\n",
      "\n",
      "sensibilidad objetivo:0.95 sensibilidad:0.9629302736098853 ->especificidad:0.41922431658936155 ratio de falsos negativos:0.03706972639011474 ratio de falsos positivos:0.5807756834106385 con umbral: 1.1920929e-07\n",
      "\n",
      "\n",
      "sensibilidad objetivo:0.96 sensibilidad:0.9629302736098853 ->especificidad:0.41922431658936155 ratio de falsos negativos:0.03706972639011474 ratio de falsos positivos:0.5807756834106385 con umbral: 1.1920929e-07\n",
      "\n",
      "\n",
      "sensibilidad objetivo:0.97 sensibilidad:1.0 ->especificidad:0.0 ratio de falsos negativos:0.0 ratio de falsos positivos:1.0 con umbral: 0.0\n",
      "\n",
      "\n",
      "sensibilidad objetivo:0.98 sensibilidad:1.0 ->especificidad:0.0 ratio de falsos negativos:0.0 ratio de falsos positivos:1.0 con umbral: 0.0\n",
      "\n",
      "\n"
     ]
    }
   ],
   "source": [
    "umbrales , fprumb , tprumb =tpr_to_umbrales(tpr2,fpr2,thresholds2,lista)\n",
    "\n",
    "for idx,i in enumerate(lista):\n",
    "    print(\"sensibilidad objetivo:\"+str(i)+\" sensibilidad:\"+str(tprumb[idx])+\" ->especificidad:\"+str(1-fprumb[idx])+\" ratio de falsos negativos:\"+str(1-tprumb[idx])+\" ratio de falsos positivos:\"+str(fprumb[idx])+\" con umbral: \"+str(umbrales[idx])+\"\\n\\n\")    "
   ]
  },
  {
   "cell_type": "code",
   "execution_count": 17,
   "metadata": {},
   "outputs": [
    {
     "name": "stdout",
     "output_type": "stream",
     "text": [
      "tpr:0.7917034421888791->fpr: 0.09079246027829863 con umbral: 0.022757888\n"
     ]
    }
   ],
   "source": [
    "umbral_2,tpr_2,fpr_2=umbral_mejor(tpr2,fpr2,thresholds2)\n",
    "\n",
    "print(\"tpr:\"+str(tpr_2)+\"->fpr: \"+str(fpr_2)+\" con umbral: \"+str(umbral_2))"
   ]
  },
  {
   "cell_type": "code",
   "execution_count": null,
   "metadata": {},
   "outputs": [],
   "source": []
  }
 ],
 "metadata": {
  "kernelspec": {
   "display_name": "Python 3",
   "language": "python",
   "name": "python3"
  },
  "language_info": {
   "codemirror_mode": {
    "name": "ipython",
    "version": 3
   },
   "file_extension": ".py",
   "mimetype": "text/x-python",
   "name": "python",
   "nbconvert_exporter": "python",
   "pygments_lexer": "ipython3",
   "version": "3.7.7"
  }
 },
 "nbformat": 4,
 "nbformat_minor": 4
}
