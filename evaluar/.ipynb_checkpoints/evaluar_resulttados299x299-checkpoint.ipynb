{
 "cells": [
  {
   "cell_type": "markdown",
   "metadata": {},
   "source": [
    "Informe de resultados del modelo entrenado con los datos de entrada de 299x299px, siendo la clase positiva las imágenes con retinopatía(2+3+4) y la clase negativa las que no tienen retinopatía, o tienen una retinopatía leve(0+1)\n"
   ]
  },
  {
   "cell_type": "code",
   "execution_count": 1,
   "metadata": {},
   "outputs": [
    {
     "name": "stdout",
     "output_type": "stream",
     "text": [
      "Num GPUS avadible: 1\n"
     ]
    }
   ],
   "source": [
    "import tensorflow as tf\n",
    "from tensorflow.keras.preprocessing.image import ImageDataGenerator\n",
    "\n",
    "import os\n",
    "import numpy as np\n",
    "import matplotlib.pyplot as plt\n",
    "import glob\n",
    "import shutil\n",
    "import logging\n",
    "\n",
    "import random\n",
    "from random import shuffle\n",
    "\n",
    "import imgaug as ia\n",
    "import imgaug.augmenters as iaa\n",
    "\n",
    "logger = tf.get_logger()\n",
    "logger.setLevel(logging.ERROR)\n",
    "\n",
    "\n",
    "print(\"Num GPUS avadible:\",len(tf.config.experimental.list_physical_devices('GPU')))"
   ]
  },
  {
   "cell_type": "code",
   "execution_count": 2,
   "metadata": {},
   "outputs": [],
   "source": [
    "val_labels=np.load('matrices_resultados//validacion.npy')\n",
    "test_labels=np.load('matrices_resultados//testeo.npy')\n",
    "\n"
   ]
  },
  {
   "cell_type": "code",
   "execution_count": 3,
   "metadata": {},
   "outputs": [],
   "source": [
    "\n",
    "\n",
    "y_pred1 =  np.load('matrices_resultados//validacion299x299.npy')\n",
    "\n",
    "y_pred2 =  np.load('matrices_resultados//testeo299x299.npy')\n",
    "\n",
    "\n",
    "\n"
   ]
  },
  {
   "cell_type": "code",
   "execution_count": 4,
   "metadata": {},
   "outputs": [],
   "source": [
    "from sklearn.metrics import roc_curve,roc_auc_score, confusion_matrix\n",
    "\n",
    "fpr1 , tpr1 , thresholds1 = roc_curve ( val_labels , 1-y_pred1,pos_label=0)\n",
    "\n",
    "fpr2 , tpr2 , thresholds2 = roc_curve ( test_labels , 1-y_pred2,pos_label=0)\n",
    "\n"
   ]
  },
  {
   "cell_type": "code",
   "execution_count": 5,
   "metadata": {},
   "outputs": [],
   "source": [
    "def plot_roc_curve(fpr,tpr): \n",
    "  plt.plot(1-tpr,1-fpr,) \n",
    "  plt.axis([0,1,0,1]) \n",
    "  plt.xlabel('1-sensibilidad') \n",
    "  plt.ylabel('Especificidad') \n",
    "  plt.show()    \n",
    "  \n"
   ]
  },
  {
   "cell_type": "code",
   "execution_count": 6,
   "metadata": {},
   "outputs": [],
   "source": [
    "def tpr_to_umbrales(tpr,fpr,thresholds,lista):\n",
    "    umbrales=[]\n",
    "    fprumb=[]\n",
    "    tprumb=[]\n",
    "    \n",
    "    for i in lista:\n",
    "        umbrales.append(thresholds[(np.where(tpr>=i))[0][0]])\n",
    "        fprumb.append(fpr[(np.where(tpr>=i))[0][0]])\n",
    "        tprumb.append(tpr[(np.where(tpr>=i))[0][0]])\n",
    "    return (umbrales, fprumb, tprumb)"
   ]
  },
  {
   "cell_type": "code",
   "execution_count": 7,
   "metadata": {},
   "outputs": [],
   "source": [
    "def umbral_mejor(tpr,fpr,thresholds):\n",
    "    distancias=(1-tpr)+fpr\n",
    "    \n",
    "    umbral=thresholds[(np.where(distancias==min(distancias)))[0][0]]\n",
    "    tpr1=tpr[(np.where(distancias==min(distancias)))[0][0]]\n",
    "    fpr1=fpr[(np.where(distancias==min(distancias)))[0][0]]\n",
    "    \n",
    "    return (umbral,tpr1,fpr1)"
   ]
  },
  {
   "cell_type": "markdown",
   "metadata": {},
   "source": [
    "Evaluación Validación\n"
   ]
  },
  {
   "cell_type": "code",
   "execution_count": 8,
   "metadata": {},
   "outputs": [
    {
     "data": {
      "text/plain": [
       "0.8966577625310236"
      ]
     },
     "execution_count": 8,
     "metadata": {},
     "output_type": "execute_result"
    }
   ],
   "source": [
    "roc_auc_score(val_labels, y_pred1)"
   ]
  },
  {
   "cell_type": "code",
   "execution_count": 9,
   "metadata": {},
   "outputs": [
    {
     "data": {
      "image/png": "[encoded data removed]",
      "text/plain": [
       "<Figure size 432x288 with 1 Axes>"
      ]
     },
     "metadata": {
      "needs_background": "light"
     },
     "output_type": "display_data"
    }
   ],
   "source": [
    "plot_roc_curve (fpr1,tpr1)"
   ]
  },
  {
   "cell_type": "code",
   "execution_count": 10,
   "metadata": {},
   "outputs": [
    {
     "data": {
      "text/plain": [
       "(1539, 348, 5096, 663)"
      ]
     },
     "execution_count": 10,
     "metadata": {},
     "output_type": "execute_result"
    }
   ],
   "source": [
    "tp, fn, fp, tn = confusion_matrix(val_labels, y_pred1.round()).ravel()\n",
    "(tp,fp,tn,fn)\n",
    "\n"
   ]
  },
  {
   "cell_type": "code",
   "execution_count": 11,
   "metadata": {},
   "outputs": [
    {
     "name": "stdout",
     "output_type": "stream",
     "text": [
      "sensibilidad objetivo:0.65 sensibilidad:0.6503178928247049 ->especificidad:0.9614254224834681 ratio de falsos negativos:0.34968210717529513 ratio de falsos positivos:0.03857457751653196 con umbral: 0.8990752\n",
      "\n",
      "\n",
      "sensibilidad objetivo:0.7 sensibilidad:0.701180744777475 ->especificidad:0.9353416605437178 ratio de falsos negativos:0.29881925522252495 ratio de falsos positivos:0.06465833945628215 con umbral: 0.4829241\n",
      "\n",
      "\n",
      "sensibilidad objetivo:0.75 sensibilidad:0.7506811989100818 ->especificidad:0.896399706098457 ratio de falsos negativos:0.24931880108991822 ratio de falsos positivos:0.10360029390154299 con umbral: 0.098027945\n",
      "\n",
      "\n",
      "sensibilidad objetivo:0.8 sensibilidad:0.8010899182561307 ->especificidad:0.84313005143277 ratio de falsos negativos:0.19891008174386926 ratio de falsos positivos:0.15686994856722997 con umbral: 0.014607966\n",
      "\n",
      "\n",
      "sensibilidad objetivo:0.85 sensibilidad:0.8505903723887375 ->especificidad:0.7819617927994122 ratio de falsos negativos:0.14940962761126253 ratio de falsos positivos:0.2180382072005878 con umbral: 0.0026547313\n",
      "\n",
      "\n",
      "sensibilidad objetivo:0.9 sensibilidad:0.9000908265213442 ->especificidad:0.6372152828802351 ratio de falsos negativos:0.0999091734786558 ratio de falsos positivos:0.3627847171197649 con umbral: 0.00016832352\n",
      "\n",
      "\n",
      "sensibilidad objetivo:0.95 sensibilidad:0.9500454132606722 ->especificidad:0.42468772961058043 ratio de falsos negativos:0.049954586739327844 ratio de falsos positivos:0.5753122703894196 con umbral: 6.4373016e-06\n",
      "\n",
      "\n",
      "sensibilidad objetivo:0.96 sensibilidad:0.9604904632152589 ->especificidad:0.3412931667891257 ratio de falsos negativos:0.03950953678474112 ratio de falsos positivos:0.6587068332108743 con umbral: 1.9073486e-06\n",
      "\n",
      "\n",
      "sensibilidad objetivo:0.97 sensibilidad:0.9704813805631244 ->especificidad:0.2637766348273328 ratio de falsos negativos:0.029518619436875615 ratio de falsos positivos:0.7362233651726672 con umbral: 5.9604645e-07\n",
      "\n",
      "\n",
      "sensibilidad objetivo:0.98 sensibilidad:0.983197093551317 ->especificidad:0.165686994856723 ratio de falsos negativos:0.016802906448682986 ratio de falsos positivos:0.834313005143277 con umbral: 1.1920929e-07\n",
      "\n",
      "\n"
     ]
    }
   ],
   "source": [
    "lista=[0.65,0.70,0.75,0.80,0.85,0.90,0.95,0.96,0.97,0.98]\n",
    "  \n",
    "\n",
    "umbrales , fprumb , tprumb =tpr_to_umbrales(tpr1,fpr1,thresholds1,lista)\n",
    "\n",
    "for idx,i in enumerate(lista):\n",
    "    print(\"sensibilidad objetivo:\"+str(i)+\" sensibilidad:\"+str(tprumb[idx])+\" ->especificidad:\"+str(1-fprumb[idx])+\" ratio de falsos negativos:\"+str(1-tprumb[idx])+\" ratio de falsos positivos:\"+str(fprumb[idx])+\" con umbral: \"+str(umbrales[idx])+\"\\n\\n\")"
   ]
  },
  {
   "cell_type": "code",
   "execution_count": 12,
   "metadata": {},
   "outputs": [
    {
     "name": "stdout",
     "output_type": "stream",
     "text": [
      "tpr:0.7706630336058129->fpr: 0.11682586333578251 con umbral: 0.054908216\n"
     ]
    }
   ],
   "source": [
    "umbral_1,tpr_1,fpr_1=umbral_mejor(tpr1,fpr1,thresholds1)\n",
    "\n",
    "print(\"tpr:\"+str(tpr_1)+\"->fpr: \"+str(fpr_1)+\" con umbral: \"+str(umbral_1))"
   ]
  },
  {
   "cell_type": "markdown",
   "metadata": {},
   "source": [
    "Evaluación test \n"
   ]
  },
  {
   "cell_type": "code",
   "execution_count": 13,
   "metadata": {},
   "outputs": [
    {
     "data": {
      "text/plain": [
       "0.8925178837263165"
      ]
     },
     "execution_count": 13,
     "metadata": {},
     "output_type": "execute_result"
    }
   ],
   "source": [
    "roc_auc_score(test_labels, y_pred2)"
   ]
  },
  {
   "cell_type": "code",
   "execution_count": 14,
   "metadata": {},
   "outputs": [
    {
     "data": {
      "image/png": "[encoded data removed]",
      "text/plain": [
       "<Figure size 432x288 with 1 Axes>"
      ]
     },
     "metadata": {
      "needs_background": "light"
     },
     "output_type": "display_data"
    }
   ],
   "source": [
    "plot_roc_curve (fpr2,tpr2)"
   ]
  },
  {
   "cell_type": "code",
   "execution_count": 15,
   "metadata": {},
   "outputs": [
    {
     "data": {
      "text/plain": [
       "(1546, 698, 9435, 720)"
      ]
     },
     "execution_count": 15,
     "metadata": {},
     "output_type": "execute_result"
    }
   ],
   "source": [
    "tp, fn, fp, tn = confusion_matrix(test_labels, y_pred2.round()).ravel()\n",
    "(tp,fp,tn,fn)\n",
    "\n"
   ]
  },
  {
   "cell_type": "code",
   "execution_count": 16,
   "metadata": {},
   "outputs": [
    {
     "name": "stdout",
     "output_type": "stream",
     "text": [
      "sensibilidad objetivo:0.65 sensibilidad:0.6500441306266549 ->especificidad:0.9495707095628145 ratio de falsos negativos:0.3499558693733451 ratio de falsos positivos:0.050429290437185435 con umbral: 0.8297813\n",
      "\n",
      "\n",
      "sensibilidad objetivo:0.7 sensibilidad:0.7003530450132391 ->especificidad:0.9204579097996645 ratio de falsos negativos:0.29964695498676086 ratio de falsos positivos:0.07954209020033554 con umbral: 0.3364343\n",
      "\n",
      "\n",
      "sensibilidad objetivo:0.75 sensibilidad:0.7502206531332745 ->especificidad:0.8860159873680056 ratio de falsos negativos:0.24977934686672554 ratio de falsos positivos:0.11398401263199448 con umbral: 0.07732952\n",
      "\n",
      "\n",
      "sensibilidad objetivo:0.8 sensibilidad:0.8005295675198588 ->especificidad:0.8302575742623113 ratio de falsos negativos:0.19947043248014118 ratio de falsos positivos:0.16974242573768875 con umbral: 0.009310007\n",
      "\n",
      "\n",
      "sensibilidad objetivo:0.85 sensibilidad:0.850397175639894 ->especificidad:0.7507154840619757 ratio de falsos negativos:0.14960282436010597 ratio de falsos positivos:0.24928451593802428 con umbral: 0.0013840199\n",
      "\n",
      "\n",
      "sensibilidad objetivo:0.9 sensibilidad:0.9002647837599294 ->especificidad:0.6317970985887693 ratio de falsos negativos:0.09973521624007065 ratio de falsos positivos:0.36820290141123063 con umbral: 0.0001565218\n",
      "\n",
      "\n",
      "sensibilidad objetivo:0.95 sensibilidad:0.9501323918799647 ->especificidad:0.40767788414092565 ratio de falsos negativos:0.04986760812003532 ratio de falsos positivos:0.5923221158590743 con umbral: 5.2452087e-06\n",
      "\n",
      "\n",
      "sensibilidad objetivo:0.96 sensibilidad:0.9602824360105914 ->especificidad:0.35103128392381333 ratio de falsos negativos:0.03971756398940862 ratio de falsos positivos:0.6489687160761867 con umbral: 2.1457672e-06\n",
      "\n",
      "\n",
      "sensibilidad objetivo:0.97 sensibilidad:0.970873786407767 ->especificidad:0.27060100661205966 ratio de falsos negativos:0.029126213592232997 ratio de falsos positivos:0.7293989933879403 con umbral: 5.9604645e-07\n",
      "\n",
      "\n",
      "sensibilidad objetivo:0.98 sensibilidad:0.9814651368049426 ->especificidad:0.2174084673837955 ratio de falsos negativos:0.01853486319505737 ratio de falsos positivos:0.7825915326162045 con umbral: 2.3841858e-07\n",
      "\n",
      "\n"
     ]
    }
   ],
   "source": [
    "umbrales , fprumb , tprumb =tpr_to_umbrales(tpr2,fpr2,thresholds2,lista)\n",
    "\n",
    "for idx,i in enumerate(lista):\n",
    "    print(\"sensibilidad objetivo:\"+str(i)+\" sensibilidad:\"+str(tprumb[idx])+\" ->especificidad:\"+str(1-fprumb[idx])+\" ratio de falsos negativos:\"+str(1-tprumb[idx])+\" ratio de falsos positivos:\"+str(fprumb[idx])+\" con umbral: \"+str(umbrales[idx])+\"\\n\\n\")    "
   ]
  },
  {
   "cell_type": "code",
   "execution_count": 17,
   "metadata": {},
   "outputs": [
    {
     "name": "stdout",
     "output_type": "stream",
     "text": [
      "tpr:0.7383053839364518->fpr: 0.10164808052896476 con umbral: 0.12352711\n"
     ]
    }
   ],
   "source": [
    "umbral_2,tpr_2,fpr_2=umbral_mejor(tpr2,fpr2,thresholds2)\n",
    "\n",
    "print(\"tpr:\"+str(tpr_2)+\"->fpr: \"+str(fpr_2)+\" con umbral: \"+str(umbral_2))"
   ]
  },
  {
   "cell_type": "code",
   "execution_count": null,
   "metadata": {},
   "outputs": [],
   "source": []
  }
 ],
 "metadata": {
  "kernelspec": {
   "display_name": "Python 3",
   "language": "python",
   "name": "python3"
  },
  "language_info": {
   "codemirror_mode": {
    "name": "ipython",
    "version": 3
   },
   "file_extension": ".py",
   "mimetype": "text/x-python",
   "name": "python",
   "nbconvert_exporter": "python",
   "pygments_lexer": "ipython3",
   "version": "3.7.7"
  }
 },
 "nbformat": 4,
 "nbformat_minor": 4
}
